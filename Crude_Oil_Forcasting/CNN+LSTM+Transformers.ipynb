{
  "nbformat": 4,
  "nbformat_minor": 0,
  "metadata": {
    "colab": {
      "provenance": [],
      "gpuType": "T4"
    },
    "kernelspec": {
      "name": "python3",
      "display_name": "Python 3"
    },
    "language_info": {
      "name": "python"
    },
    "accelerator": "GPU"
  },
  "cells": [
    {
      "cell_type": "code",
      "execution_count": 1,
      "metadata": {
        "colab": {
          "base_uri": "https://localhost:8080/"
        },
        "id": "mIXUBB0Ty9_w",
        "outputId": "7c30e9a3-19f9-4017-8877-a366427ffabc"
      },
      "outputs": [
        {
          "output_type": "stream",
          "name": "stdout",
          "text": [
            "Mounted at /content/drive\n"
          ]
        }
      ],
      "source": [
        "from google.colab import drive\n",
        "drive.mount('/content/drive')"
      ]
    },
    {
      "cell_type": "code",
      "source": [
        "import pandas as pd\n",
        "from datetime import datetime\n",
        "import pandas as pd\n",
        "import matplotlib.pyplot as plt\n",
        "import seaborn as sns\n",
        "import yfinance as yf\n",
        "import numpy as np\n",
        "from numpy import polyfit\n",
        "import warnings\n",
        "warnings.filterwarnings('ignore')"
      ],
      "metadata": {
        "id": "X3Uq4GEUzhd_"
      },
      "execution_count": 2,
      "outputs": []
    },
    {
      "cell_type": "code",
      "source": [
        "df=pd.read_csv('/content/drive/My Drive/OIL_CrUDE/DCOILWTICO.csv')\n",
        "\n",
        "df = df.loc[:, ~df.columns.str.contains('^Unnamed')]\n",
        "#Use the last available price to fill in missing data (since oil prices don’t change on closed days).\n",
        "df[\"observation_date\"] = pd.to_datetime(df[\"observation_date\"])\n",
        "\n",
        "df['DCOILWTICO'] = df['DCOILWTICO'].fillna(method='ffill')\n",
        "df.head()"
      ],
      "metadata": {
        "colab": {
          "base_uri": "https://localhost:8080/",
          "height": 206
        },
        "id": "JypjOOsazkzl",
        "outputId": "2f42d027-dffd-4b1e-90d0-c5fe45a01469"
      },
      "execution_count": 3,
      "outputs": [
        {
          "output_type": "execute_result",
          "data": {
            "text/plain": [
              "  observation_date  DCOILWTICO\n",
              "0       2015-06-02       61.30\n",
              "1       2015-06-03       59.67\n",
              "2       2015-06-04       58.00\n",
              "3       2015-06-05       59.11\n",
              "4       2015-06-08       58.15"
            ],
            "text/html": [
              "\n",
              "  <div id=\"df-424100bb-d6d8-4279-b55a-bd09b5662b59\" class=\"colab-df-container\">\n",
              "    <div>\n",
              "<style scoped>\n",
              "    .dataframe tbody tr th:only-of-type {\n",
              "        vertical-align: middle;\n",
              "    }\n",
              "\n",
              "    .dataframe tbody tr th {\n",
              "        vertical-align: top;\n",
              "    }\n",
              "\n",
              "    .dataframe thead th {\n",
              "        text-align: right;\n",
              "    }\n",
              "</style>\n",
              "<table border=\"1\" class=\"dataframe\">\n",
              "  <thead>\n",
              "    <tr style=\"text-align: right;\">\n",
              "      <th></th>\n",
              "      <th>observation_date</th>\n",
              "      <th>DCOILWTICO</th>\n",
              "    </tr>\n",
              "  </thead>\n",
              "  <tbody>\n",
              "    <tr>\n",
              "      <th>0</th>\n",
              "      <td>2015-06-02</td>\n",
              "      <td>61.30</td>\n",
              "    </tr>\n",
              "    <tr>\n",
              "      <th>1</th>\n",
              "      <td>2015-06-03</td>\n",
              "      <td>59.67</td>\n",
              "    </tr>\n",
              "    <tr>\n",
              "      <th>2</th>\n",
              "      <td>2015-06-04</td>\n",
              "      <td>58.00</td>\n",
              "    </tr>\n",
              "    <tr>\n",
              "      <th>3</th>\n",
              "      <td>2015-06-05</td>\n",
              "      <td>59.11</td>\n",
              "    </tr>\n",
              "    <tr>\n",
              "      <th>4</th>\n",
              "      <td>2015-06-08</td>\n",
              "      <td>58.15</td>\n",
              "    </tr>\n",
              "  </tbody>\n",
              "</table>\n",
              "</div>\n",
              "    <div class=\"colab-df-buttons\">\n",
              "\n",
              "  <div class=\"colab-df-container\">\n",
              "    <button class=\"colab-df-convert\" onclick=\"convertToInteractive('df-424100bb-d6d8-4279-b55a-bd09b5662b59')\"\n",
              "            title=\"Convert this dataframe to an interactive table.\"\n",
              "            style=\"display:none;\">\n",
              "\n",
              "  <svg xmlns=\"http://www.w3.org/2000/svg\" height=\"24px\" viewBox=\"0 -960 960 960\">\n",
              "    <path d=\"M120-120v-720h720v720H120Zm60-500h600v-160H180v160Zm220 220h160v-160H400v160Zm0 220h160v-160H400v160ZM180-400h160v-160H180v160Zm440 0h160v-160H620v160ZM180-180h160v-160H180v160Zm440 0h160v-160H620v160Z\"/>\n",
              "  </svg>\n",
              "    </button>\n",
              "\n",
              "  <style>\n",
              "    .colab-df-container {\n",
              "      display:flex;\n",
              "      gap: 12px;\n",
              "    }\n",
              "\n",
              "    .colab-df-convert {\n",
              "      background-color: #E8F0FE;\n",
              "      border: none;\n",
              "      border-radius: 50%;\n",
              "      cursor: pointer;\n",
              "      display: none;\n",
              "      fill: #1967D2;\n",
              "      height: 32px;\n",
              "      padding: 0 0 0 0;\n",
              "      width: 32px;\n",
              "    }\n",
              "\n",
              "    .colab-df-convert:hover {\n",
              "      background-color: #E2EBFA;\n",
              "      box-shadow: 0px 1px 2px rgba(60, 64, 67, 0.3), 0px 1px 3px 1px rgba(60, 64, 67, 0.15);\n",
              "      fill: #174EA6;\n",
              "    }\n",
              "\n",
              "    .colab-df-buttons div {\n",
              "      margin-bottom: 4px;\n",
              "    }\n",
              "\n",
              "    [theme=dark] .colab-df-convert {\n",
              "      background-color: #3B4455;\n",
              "      fill: #D2E3FC;\n",
              "    }\n",
              "\n",
              "    [theme=dark] .colab-df-convert:hover {\n",
              "      background-color: #434B5C;\n",
              "      box-shadow: 0px 1px 3px 1px rgba(0, 0, 0, 0.15);\n",
              "      filter: drop-shadow(0px 1px 2px rgba(0, 0, 0, 0.3));\n",
              "      fill: #FFFFFF;\n",
              "    }\n",
              "  </style>\n",
              "\n",
              "    <script>\n",
              "      const buttonEl =\n",
              "        document.querySelector('#df-424100bb-d6d8-4279-b55a-bd09b5662b59 button.colab-df-convert');\n",
              "      buttonEl.style.display =\n",
              "        google.colab.kernel.accessAllowed ? 'block' : 'none';\n",
              "\n",
              "      async function convertToInteractive(key) {\n",
              "        const element = document.querySelector('#df-424100bb-d6d8-4279-b55a-bd09b5662b59');\n",
              "        const dataTable =\n",
              "          await google.colab.kernel.invokeFunction('convertToInteractive',\n",
              "                                                    [key], {});\n",
              "        if (!dataTable) return;\n",
              "\n",
              "        const docLinkHtml = 'Like what you see? Visit the ' +\n",
              "          '<a target=\"_blank\" href=https://colab.research.google.com/notebooks/data_table.ipynb>data table notebook</a>'\n",
              "          + ' to learn more about interactive tables.';\n",
              "        element.innerHTML = '';\n",
              "        dataTable['output_type'] = 'display_data';\n",
              "        await google.colab.output.renderOutput(dataTable, element);\n",
              "        const docLink = document.createElement('div');\n",
              "        docLink.innerHTML = docLinkHtml;\n",
              "        element.appendChild(docLink);\n",
              "      }\n",
              "    </script>\n",
              "  </div>\n",
              "\n",
              "\n",
              "    <div id=\"df-f19b3d25-eae8-43a1-937b-40dfc5697b6b\">\n",
              "      <button class=\"colab-df-quickchart\" onclick=\"quickchart('df-f19b3d25-eae8-43a1-937b-40dfc5697b6b')\"\n",
              "                title=\"Suggest charts\"\n",
              "                style=\"display:none;\">\n",
              "\n",
              "<svg xmlns=\"http://www.w3.org/2000/svg\" height=\"24px\"viewBox=\"0 0 24 24\"\n",
              "     width=\"24px\">\n",
              "    <g>\n",
              "        <path d=\"M19 3H5c-1.1 0-2 .9-2 2v14c0 1.1.9 2 2 2h14c1.1 0 2-.9 2-2V5c0-1.1-.9-2-2-2zM9 17H7v-7h2v7zm4 0h-2V7h2v10zm4 0h-2v-4h2v4z\"/>\n",
              "    </g>\n",
              "</svg>\n",
              "      </button>\n",
              "\n",
              "<style>\n",
              "  .colab-df-quickchart {\n",
              "      --bg-color: #E8F0FE;\n",
              "      --fill-color: #1967D2;\n",
              "      --hover-bg-color: #E2EBFA;\n",
              "      --hover-fill-color: #174EA6;\n",
              "      --disabled-fill-color: #AAA;\n",
              "      --disabled-bg-color: #DDD;\n",
              "  }\n",
              "\n",
              "  [theme=dark] .colab-df-quickchart {\n",
              "      --bg-color: #3B4455;\n",
              "      --fill-color: #D2E3FC;\n",
              "      --hover-bg-color: #434B5C;\n",
              "      --hover-fill-color: #FFFFFF;\n",
              "      --disabled-bg-color: #3B4455;\n",
              "      --disabled-fill-color: #666;\n",
              "  }\n",
              "\n",
              "  .colab-df-quickchart {\n",
              "    background-color: var(--bg-color);\n",
              "    border: none;\n",
              "    border-radius: 50%;\n",
              "    cursor: pointer;\n",
              "    display: none;\n",
              "    fill: var(--fill-color);\n",
              "    height: 32px;\n",
              "    padding: 0;\n",
              "    width: 32px;\n",
              "  }\n",
              "\n",
              "  .colab-df-quickchart:hover {\n",
              "    background-color: var(--hover-bg-color);\n",
              "    box-shadow: 0 1px 2px rgba(60, 64, 67, 0.3), 0 1px 3px 1px rgba(60, 64, 67, 0.15);\n",
              "    fill: var(--button-hover-fill-color);\n",
              "  }\n",
              "\n",
              "  .colab-df-quickchart-complete:disabled,\n",
              "  .colab-df-quickchart-complete:disabled:hover {\n",
              "    background-color: var(--disabled-bg-color);\n",
              "    fill: var(--disabled-fill-color);\n",
              "    box-shadow: none;\n",
              "  }\n",
              "\n",
              "  .colab-df-spinner {\n",
              "    border: 2px solid var(--fill-color);\n",
              "    border-color: transparent;\n",
              "    border-bottom-color: var(--fill-color);\n",
              "    animation:\n",
              "      spin 1s steps(1) infinite;\n",
              "  }\n",
              "\n",
              "  @keyframes spin {\n",
              "    0% {\n",
              "      border-color: transparent;\n",
              "      border-bottom-color: var(--fill-color);\n",
              "      border-left-color: var(--fill-color);\n",
              "    }\n",
              "    20% {\n",
              "      border-color: transparent;\n",
              "      border-left-color: var(--fill-color);\n",
              "      border-top-color: var(--fill-color);\n",
              "    }\n",
              "    30% {\n",
              "      border-color: transparent;\n",
              "      border-left-color: var(--fill-color);\n",
              "      border-top-color: var(--fill-color);\n",
              "      border-right-color: var(--fill-color);\n",
              "    }\n",
              "    40% {\n",
              "      border-color: transparent;\n",
              "      border-right-color: var(--fill-color);\n",
              "      border-top-color: var(--fill-color);\n",
              "    }\n",
              "    60% {\n",
              "      border-color: transparent;\n",
              "      border-right-color: var(--fill-color);\n",
              "    }\n",
              "    80% {\n",
              "      border-color: transparent;\n",
              "      border-right-color: var(--fill-color);\n",
              "      border-bottom-color: var(--fill-color);\n",
              "    }\n",
              "    90% {\n",
              "      border-color: transparent;\n",
              "      border-bottom-color: var(--fill-color);\n",
              "    }\n",
              "  }\n",
              "</style>\n",
              "\n",
              "      <script>\n",
              "        async function quickchart(key) {\n",
              "          const quickchartButtonEl =\n",
              "            document.querySelector('#' + key + ' button');\n",
              "          quickchartButtonEl.disabled = true;  // To prevent multiple clicks.\n",
              "          quickchartButtonEl.classList.add('colab-df-spinner');\n",
              "          try {\n",
              "            const charts = await google.colab.kernel.invokeFunction(\n",
              "                'suggestCharts', [key], {});\n",
              "          } catch (error) {\n",
              "            console.error('Error during call to suggestCharts:', error);\n",
              "          }\n",
              "          quickchartButtonEl.classList.remove('colab-df-spinner');\n",
              "          quickchartButtonEl.classList.add('colab-df-quickchart-complete');\n",
              "        }\n",
              "        (() => {\n",
              "          let quickchartButtonEl =\n",
              "            document.querySelector('#df-f19b3d25-eae8-43a1-937b-40dfc5697b6b button');\n",
              "          quickchartButtonEl.style.display =\n",
              "            google.colab.kernel.accessAllowed ? 'block' : 'none';\n",
              "        })();\n",
              "      </script>\n",
              "    </div>\n",
              "    </div>\n",
              "  </div>\n"
            ],
            "application/vnd.google.colaboratory.intrinsic+json": {
              "type": "dataframe",
              "variable_name": "df",
              "summary": "{\n  \"name\": \"df\",\n  \"rows\": 2610,\n  \"fields\": [\n    {\n      \"column\": \"observation_date\",\n      \"properties\": {\n        \"dtype\": \"date\",\n        \"min\": \"2015-06-02 00:00:00\",\n        \"max\": \"2025-06-02 00:00:00\",\n        \"num_unique_values\": 2610,\n        \"samples\": [\n          \"2021-01-26 00:00:00\",\n          \"2022-06-14 00:00:00\",\n          \"2016-03-22 00:00:00\"\n        ],\n        \"semantic_type\": \"\",\n        \"description\": \"\"\n      }\n    },\n    {\n      \"column\": \"DCOILWTICO\",\n      \"properties\": {\n        \"dtype\": \"number\",\n        \"std\": 18.2743552608595,\n        \"min\": -36.98,\n        \"max\": 123.64,\n        \"num_unique_values\": 2048,\n        \"samples\": [\n          120.73,\n          71.59,\n          46.6\n        ],\n        \"semantic_type\": \"\",\n        \"description\": \"\"\n      }\n    }\n  ]\n}"
            }
          },
          "metadata": {},
          "execution_count": 3
        }
      ]
    },
    {
      "cell_type": "code",
      "source": [
        "import pandas as pd\n",
        "import yfinance as yf\n",
        "\n",
        "crude = yf.download('CL=F', start='2015-06-02', end='2025-06-02')\n",
        "crude.reset_index(inplace=True)\n",
        "\n",
        "crude['Date'] = pd.to_datetime(crude['Date'])\n",
        "\n",
        "crude.set_index('Date', inplace=True)\n",
        "\n",
        "\n",
        "\n"
      ],
      "metadata": {
        "colab": {
          "base_uri": "https://localhost:8080/"
        },
        "id": "cJir5bgHnriC",
        "outputId": "b97316ef-3e5c-4453-cbb5-c3357ccee217"
      },
      "execution_count": 4,
      "outputs": [
        {
          "output_type": "stream",
          "name": "stdout",
          "text": [
            "YF.download() has changed argument auto_adjust default to True\n"
          ]
        },
        {
          "output_type": "stream",
          "name": "stderr",
          "text": [
            "\r[*********************100%***********************]  1 of 1 completed\n"
          ]
        }
      ]
    },
    {
      "cell_type": "code",
      "source": [
        "\n",
        "crude = yf.download('CL=F', start='2015-06-02', end='2025-06-02')\n",
        "crude.reset_index(inplace=True)\n",
        "\n",
        "crude['Date'] = pd.to_datetime(crude['Date'])\n",
        "crude.rename(columns={'Date': 'observation_date'}, inplace=True)\n",
        "\n",
        "if isinstance(crude.columns, pd.MultiIndex):\n",
        "    crude.columns = crude.columns.get_level_values(0)\n",
        "\n",
        "df['observation_date'] = pd.to_datetime(df['observation_date'])\n",
        "df = df.merge(crude[['observation_date', 'Volume']], on='observation_date', how='left')\n",
        "\n",
        "df['Volume'] = df['Volume'].fillna(method='ffill')"
      ],
      "metadata": {
        "colab": {
          "base_uri": "https://localhost:8080/"
        },
        "id": "SQq8mzOep6wr",
        "outputId": "8a176cfa-24bf-468a-fa69-9bd498efecf8"
      },
      "execution_count": 5,
      "outputs": [
        {
          "output_type": "stream",
          "name": "stderr",
          "text": [
            "\r[*********************100%***********************]  1 of 1 completed\n"
          ]
        }
      ]
    },
    {
      "cell_type": "code",
      "source": [
        "from ta.trend import MACD\n",
        "from ta.momentum import RSIIndicator\n",
        "from ta.volatility import BollingerBands\n",
        "from ta.utils import dropna\n",
        "\n",
        "df= dropna(df)\n",
        "\n",
        "rsi = RSIIndicator(close=df[\"DCOILWTICO\"])\n",
        "df[\"RSI\"] = rsi.rsi()\n",
        "\n",
        "macd = MACD(close=df[\"DCOILWTICO\"])\n",
        "df[\"MACD\"] = macd.macd()\n",
        "df[\"MACD_Signal\"] = macd.macd_signal()\n",
        "\n",
        "df[\"MA10\"] = df[\"DCOILWTICO\"].rolling(window=10).mean()\n",
        "df[\"MA50\"] = df[\"DCOILWTICO\"].rolling(window=50).mean()\n",
        "\n",
        "bollinger = BollingerBands(close=df[\"DCOILWTICO\"])\n",
        "df[\"BB_High\"] = bollinger.bollinger_hband()\n",
        "df[\"BB_Low\"] = bollinger.bollinger_lband()\n",
        "\n",
        "\n"
      ],
      "metadata": {
        "id": "laQIOWr3k83M"
      },
      "execution_count": 7,
      "outputs": []
    },
    {
      "cell_type": "code",
      "source": [
        "df=df.drop(['MACD_Signal','MA50','BB_High','BB_Low'],axis=1)\n",
        "df.head()"
      ],
      "metadata": {
        "colab": {
          "base_uri": "https://localhost:8080/",
          "height": 206
        },
        "id": "6BNrAGSo-JvL",
        "outputId": "fee89cf9-4f5d-4bc2-ccd1-8f968ef0b410"
      },
      "execution_count": 8,
      "outputs": [
        {
          "output_type": "execute_result",
          "data": {
            "text/plain": [
              "  observation_date  DCOILWTICO    Volume  RSI  MACD  MA10\n",
              "0       2015-06-02       61.30  344508.0  NaN   NaN   NaN\n",
              "1       2015-06-03       59.67  371298.0  NaN   NaN   NaN\n",
              "2       2015-06-04       58.00  363345.0  NaN   NaN   NaN\n",
              "3       2015-06-05       59.11  461016.0  NaN   NaN   NaN\n",
              "4       2015-06-08       58.15  339845.0  NaN   NaN   NaN"
            ],
            "text/html": [
              "\n",
              "  <div id=\"df-3c4ec8ea-dac1-48ea-bfb8-61a2bd0d9de5\" class=\"colab-df-container\">\n",
              "    <div>\n",
              "<style scoped>\n",
              "    .dataframe tbody tr th:only-of-type {\n",
              "        vertical-align: middle;\n",
              "    }\n",
              "\n",
              "    .dataframe tbody tr th {\n",
              "        vertical-align: top;\n",
              "    }\n",
              "\n",
              "    .dataframe thead th {\n",
              "        text-align: right;\n",
              "    }\n",
              "</style>\n",
              "<table border=\"1\" class=\"dataframe\">\n",
              "  <thead>\n",
              "    <tr style=\"text-align: right;\">\n",
              "      <th></th>\n",
              "      <th>observation_date</th>\n",
              "      <th>DCOILWTICO</th>\n",
              "      <th>Volume</th>\n",
              "      <th>RSI</th>\n",
              "      <th>MACD</th>\n",
              "      <th>MA10</th>\n",
              "    </tr>\n",
              "  </thead>\n",
              "  <tbody>\n",
              "    <tr>\n",
              "      <th>0</th>\n",
              "      <td>2015-06-02</td>\n",
              "      <td>61.30</td>\n",
              "      <td>344508.0</td>\n",
              "      <td>NaN</td>\n",
              "      <td>NaN</td>\n",
              "      <td>NaN</td>\n",
              "    </tr>\n",
              "    <tr>\n",
              "      <th>1</th>\n",
              "      <td>2015-06-03</td>\n",
              "      <td>59.67</td>\n",
              "      <td>371298.0</td>\n",
              "      <td>NaN</td>\n",
              "      <td>NaN</td>\n",
              "      <td>NaN</td>\n",
              "    </tr>\n",
              "    <tr>\n",
              "      <th>2</th>\n",
              "      <td>2015-06-04</td>\n",
              "      <td>58.00</td>\n",
              "      <td>363345.0</td>\n",
              "      <td>NaN</td>\n",
              "      <td>NaN</td>\n",
              "      <td>NaN</td>\n",
              "    </tr>\n",
              "    <tr>\n",
              "      <th>3</th>\n",
              "      <td>2015-06-05</td>\n",
              "      <td>59.11</td>\n",
              "      <td>461016.0</td>\n",
              "      <td>NaN</td>\n",
              "      <td>NaN</td>\n",
              "      <td>NaN</td>\n",
              "    </tr>\n",
              "    <tr>\n",
              "      <th>4</th>\n",
              "      <td>2015-06-08</td>\n",
              "      <td>58.15</td>\n",
              "      <td>339845.0</td>\n",
              "      <td>NaN</td>\n",
              "      <td>NaN</td>\n",
              "      <td>NaN</td>\n",
              "    </tr>\n",
              "  </tbody>\n",
              "</table>\n",
              "</div>\n",
              "    <div class=\"colab-df-buttons\">\n",
              "\n",
              "  <div class=\"colab-df-container\">\n",
              "    <button class=\"colab-df-convert\" onclick=\"convertToInteractive('df-3c4ec8ea-dac1-48ea-bfb8-61a2bd0d9de5')\"\n",
              "            title=\"Convert this dataframe to an interactive table.\"\n",
              "            style=\"display:none;\">\n",
              "\n",
              "  <svg xmlns=\"http://www.w3.org/2000/svg\" height=\"24px\" viewBox=\"0 -960 960 960\">\n",
              "    <path d=\"M120-120v-720h720v720H120Zm60-500h600v-160H180v160Zm220 220h160v-160H400v160Zm0 220h160v-160H400v160ZM180-400h160v-160H180v160Zm440 0h160v-160H620v160ZM180-180h160v-160H180v160Zm440 0h160v-160H620v160Z\"/>\n",
              "  </svg>\n",
              "    </button>\n",
              "\n",
              "  <style>\n",
              "    .colab-df-container {\n",
              "      display:flex;\n",
              "      gap: 12px;\n",
              "    }\n",
              "\n",
              "    .colab-df-convert {\n",
              "      background-color: #E8F0FE;\n",
              "      border: none;\n",
              "      border-radius: 50%;\n",
              "      cursor: pointer;\n",
              "      display: none;\n",
              "      fill: #1967D2;\n",
              "      height: 32px;\n",
              "      padding: 0 0 0 0;\n",
              "      width: 32px;\n",
              "    }\n",
              "\n",
              "    .colab-df-convert:hover {\n",
              "      background-color: #E2EBFA;\n",
              "      box-shadow: 0px 1px 2px rgba(60, 64, 67, 0.3), 0px 1px 3px 1px rgba(60, 64, 67, 0.15);\n",
              "      fill: #174EA6;\n",
              "    }\n",
              "\n",
              "    .colab-df-buttons div {\n",
              "      margin-bottom: 4px;\n",
              "    }\n",
              "\n",
              "    [theme=dark] .colab-df-convert {\n",
              "      background-color: #3B4455;\n",
              "      fill: #D2E3FC;\n",
              "    }\n",
              "\n",
              "    [theme=dark] .colab-df-convert:hover {\n",
              "      background-color: #434B5C;\n",
              "      box-shadow: 0px 1px 3px 1px rgba(0, 0, 0, 0.15);\n",
              "      filter: drop-shadow(0px 1px 2px rgba(0, 0, 0, 0.3));\n",
              "      fill: #FFFFFF;\n",
              "    }\n",
              "  </style>\n",
              "\n",
              "    <script>\n",
              "      const buttonEl =\n",
              "        document.querySelector('#df-3c4ec8ea-dac1-48ea-bfb8-61a2bd0d9de5 button.colab-df-convert');\n",
              "      buttonEl.style.display =\n",
              "        google.colab.kernel.accessAllowed ? 'block' : 'none';\n",
              "\n",
              "      async function convertToInteractive(key) {\n",
              "        const element = document.querySelector('#df-3c4ec8ea-dac1-48ea-bfb8-61a2bd0d9de5');\n",
              "        const dataTable =\n",
              "          await google.colab.kernel.invokeFunction('convertToInteractive',\n",
              "                                                    [key], {});\n",
              "        if (!dataTable) return;\n",
              "\n",
              "        const docLinkHtml = 'Like what you see? Visit the ' +\n",
              "          '<a target=\"_blank\" href=https://colab.research.google.com/notebooks/data_table.ipynb>data table notebook</a>'\n",
              "          + ' to learn more about interactive tables.';\n",
              "        element.innerHTML = '';\n",
              "        dataTable['output_type'] = 'display_data';\n",
              "        await google.colab.output.renderOutput(dataTable, element);\n",
              "        const docLink = document.createElement('div');\n",
              "        docLink.innerHTML = docLinkHtml;\n",
              "        element.appendChild(docLink);\n",
              "      }\n",
              "    </script>\n",
              "  </div>\n",
              "\n",
              "\n",
              "    <div id=\"df-8050b558-380b-4d0d-aca9-cd47f429deea\">\n",
              "      <button class=\"colab-df-quickchart\" onclick=\"quickchart('df-8050b558-380b-4d0d-aca9-cd47f429deea')\"\n",
              "                title=\"Suggest charts\"\n",
              "                style=\"display:none;\">\n",
              "\n",
              "<svg xmlns=\"http://www.w3.org/2000/svg\" height=\"24px\"viewBox=\"0 0 24 24\"\n",
              "     width=\"24px\">\n",
              "    <g>\n",
              "        <path d=\"M19 3H5c-1.1 0-2 .9-2 2v14c0 1.1.9 2 2 2h14c1.1 0 2-.9 2-2V5c0-1.1-.9-2-2-2zM9 17H7v-7h2v7zm4 0h-2V7h2v10zm4 0h-2v-4h2v4z\"/>\n",
              "    </g>\n",
              "</svg>\n",
              "      </button>\n",
              "\n",
              "<style>\n",
              "  .colab-df-quickchart {\n",
              "      --bg-color: #E8F0FE;\n",
              "      --fill-color: #1967D2;\n",
              "      --hover-bg-color: #E2EBFA;\n",
              "      --hover-fill-color: #174EA6;\n",
              "      --disabled-fill-color: #AAA;\n",
              "      --disabled-bg-color: #DDD;\n",
              "  }\n",
              "\n",
              "  [theme=dark] .colab-df-quickchart {\n",
              "      --bg-color: #3B4455;\n",
              "      --fill-color: #D2E3FC;\n",
              "      --hover-bg-color: #434B5C;\n",
              "      --hover-fill-color: #FFFFFF;\n",
              "      --disabled-bg-color: #3B4455;\n",
              "      --disabled-fill-color: #666;\n",
              "  }\n",
              "\n",
              "  .colab-df-quickchart {\n",
              "    background-color: var(--bg-color);\n",
              "    border: none;\n",
              "    border-radius: 50%;\n",
              "    cursor: pointer;\n",
              "    display: none;\n",
              "    fill: var(--fill-color);\n",
              "    height: 32px;\n",
              "    padding: 0;\n",
              "    width: 32px;\n",
              "  }\n",
              "\n",
              "  .colab-df-quickchart:hover {\n",
              "    background-color: var(--hover-bg-color);\n",
              "    box-shadow: 0 1px 2px rgba(60, 64, 67, 0.3), 0 1px 3px 1px rgba(60, 64, 67, 0.15);\n",
              "    fill: var(--button-hover-fill-color);\n",
              "  }\n",
              "\n",
              "  .colab-df-quickchart-complete:disabled,\n",
              "  .colab-df-quickchart-complete:disabled:hover {\n",
              "    background-color: var(--disabled-bg-color);\n",
              "    fill: var(--disabled-fill-color);\n",
              "    box-shadow: none;\n",
              "  }\n",
              "\n",
              "  .colab-df-spinner {\n",
              "    border: 2px solid var(--fill-color);\n",
              "    border-color: transparent;\n",
              "    border-bottom-color: var(--fill-color);\n",
              "    animation:\n",
              "      spin 1s steps(1) infinite;\n",
              "  }\n",
              "\n",
              "  @keyframes spin {\n",
              "    0% {\n",
              "      border-color: transparent;\n",
              "      border-bottom-color: var(--fill-color);\n",
              "      border-left-color: var(--fill-color);\n",
              "    }\n",
              "    20% {\n",
              "      border-color: transparent;\n",
              "      border-left-color: var(--fill-color);\n",
              "      border-top-color: var(--fill-color);\n",
              "    }\n",
              "    30% {\n",
              "      border-color: transparent;\n",
              "      border-left-color: var(--fill-color);\n",
              "      border-top-color: var(--fill-color);\n",
              "      border-right-color: var(--fill-color);\n",
              "    }\n",
              "    40% {\n",
              "      border-color: transparent;\n",
              "      border-right-color: var(--fill-color);\n",
              "      border-top-color: var(--fill-color);\n",
              "    }\n",
              "    60% {\n",
              "      border-color: transparent;\n",
              "      border-right-color: var(--fill-color);\n",
              "    }\n",
              "    80% {\n",
              "      border-color: transparent;\n",
              "      border-right-color: var(--fill-color);\n",
              "      border-bottom-color: var(--fill-color);\n",
              "    }\n",
              "    90% {\n",
              "      border-color: transparent;\n",
              "      border-bottom-color: var(--fill-color);\n",
              "    }\n",
              "  }\n",
              "</style>\n",
              "\n",
              "      <script>\n",
              "        async function quickchart(key) {\n",
              "          const quickchartButtonEl =\n",
              "            document.querySelector('#' + key + ' button');\n",
              "          quickchartButtonEl.disabled = true;  // To prevent multiple clicks.\n",
              "          quickchartButtonEl.classList.add('colab-df-spinner');\n",
              "          try {\n",
              "            const charts = await google.colab.kernel.invokeFunction(\n",
              "                'suggestCharts', [key], {});\n",
              "          } catch (error) {\n",
              "            console.error('Error during call to suggestCharts:', error);\n",
              "          }\n",
              "          quickchartButtonEl.classList.remove('colab-df-spinner');\n",
              "          quickchartButtonEl.classList.add('colab-df-quickchart-complete');\n",
              "        }\n",
              "        (() => {\n",
              "          let quickchartButtonEl =\n",
              "            document.querySelector('#df-8050b558-380b-4d0d-aca9-cd47f429deea button');\n",
              "          quickchartButtonEl.style.display =\n",
              "            google.colab.kernel.accessAllowed ? 'block' : 'none';\n",
              "        })();\n",
              "      </script>\n",
              "    </div>\n",
              "    </div>\n",
              "  </div>\n"
            ],
            "application/vnd.google.colaboratory.intrinsic+json": {
              "type": "dataframe",
              "variable_name": "df",
              "summary": "{\n  \"name\": \"df\",\n  \"rows\": 2608,\n  \"fields\": [\n    {\n      \"column\": \"observation_date\",\n      \"properties\": {\n        \"dtype\": \"date\",\n        \"min\": \"2015-06-02 00:00:00\",\n        \"max\": \"2025-06-02 00:00:00\",\n        \"num_unique_values\": 2608,\n        \"samples\": [\n          \"2021-01-26 00:00:00\",\n          \"2022-06-13 00:00:00\",\n          \"2016-03-22 00:00:00\"\n        ],\n        \"semantic_type\": \"\",\n        \"description\": \"\"\n      }\n    },\n    {\n      \"column\": \"DCOILWTICO\",\n      \"properties\": {\n        \"dtype\": \"number\",\n        \"std\": 18.274619130152452,\n        \"min\": -36.98,\n        \"max\": 123.64,\n        \"num_unique_values\": 2048,\n        \"samples\": [\n          120.73,\n          71.59,\n          46.6\n        ],\n        \"semantic_type\": \"\",\n        \"description\": \"\"\n      }\n    },\n    {\n      \"column\": \"Volume\",\n      \"properties\": {\n        \"dtype\": \"number\",\n        \"std\": 218533.95141125974,\n        \"min\": 58714.0,\n        \"max\": 2288230.0,\n        \"num_unique_values\": 2507,\n        \"samples\": [\n          262903.0,\n          380433.0,\n          297928.0\n        ],\n        \"semantic_type\": \"\",\n        \"description\": \"\"\n      }\n    },\n    {\n      \"column\": \"RSI\",\n      \"properties\": {\n        \"dtype\": \"number\",\n        \"std\": 12.535542163821145,\n        \"min\": 11.29173446781762,\n        \"max\": 83.91325286875653,\n        \"num_unique_values\": 2493,\n        \"samples\": [\n          47.53047101869205,\n          69.48020826953886,\n          70.3901413836642\n        ],\n        \"semantic_type\": \"\",\n        \"description\": \"\"\n      }\n    },\n    {\n      \"column\": \"MACD\",\n      \"properties\": {\n        \"dtype\": \"number\",\n        \"std\": 1.6608364561185605,\n        \"min\": -8.215991200859378,\n        \"max\": 7.822530157200418,\n        \"num_unique_values\": 2583,\n        \"samples\": [\n          -0.1318619911699912,\n          0.9022960476963675,\n          -1.9132677721585054\n        ],\n        \"semantic_type\": \"\",\n        \"description\": \"\"\n      }\n    },\n    {\n      \"column\": \"MA10\",\n      \"properties\": {\n        \"dtype\": \"number\",\n        \"std\": 18.172826584956244,\n        \"min\": 9.376999999999999,\n        \"max\": 119.38399999999999,\n        \"num_unique_values\": 2556,\n        \"samples\": [\n          23.142,\n          103.33700000000002,\n          71.401\n        ],\n        \"semantic_type\": \"\",\n        \"description\": \"\"\n      }\n    }\n  ]\n}"
            }
          },
          "metadata": {},
          "execution_count": 8
        }
      ]
    },
    {
      "cell_type": "markdown",
      "source": [
        "# CNN+LSTM+Transformers"
      ],
      "metadata": {
        "id": "8TsQJW1wrvYd"
      }
    },
    {
      "cell_type": "markdown",
      "source": [
        "# Fine Tunning"
      ],
      "metadata": {
        "id": "JY0SzdcLlCQN"
      }
    },
    {
      "cell_type": "code",
      "source": [
        "!pip install optuna\n"
      ],
      "metadata": {
        "id": "SZ9mPZRllHJX"
      },
      "execution_count": null,
      "outputs": []
    },
    {
      "cell_type": "code",
      "source": [
        "njimport pandas as pd\n",
        "from sklearn.preprocessing import MinMaxScaler\n",
        "\n",
        "features = [\n",
        "    'DCOILWTICO', 'Volume', 'MA10', 'RSI', 'MACD'\n",
        "]\n",
        "\n",
        "df[features] = df[features].fillna(method='ffill')\n",
        "df = df.dropna(subset=features)\n",
        "\n",
        "train = df.iloc[:1950]\n",
        "valid = df.iloc[1950:2300]\n",
        "test = df.iloc[2300:]\n",
        "\n",
        "scaler = MinMaxScaler()\n",
        "\n",
        "train_data = scaler.fit_transform(train[features])\n",
        "valid_data = scaler.transform(valid[features])\n",
        "test_data = scaler.transform(test[features])\n",
        "\n",
        "print(\"Train data shape:\", train_data.shape)\n",
        "print(\"Validation data shape:\", valid_data.shape)\n",
        "print(\"Test data shape:\", test_data.shape)\n"
      ],
      "metadata": {
        "colab": {
          "base_uri": "https://localhost:8080/"
        },
        "id": "50xFfYoKsQ8B",
        "outputId": "276ea2af-3712-48fb-9ded-a95781abcbee"
      },
      "execution_count": 11,
      "outputs": [
        {
          "output_type": "stream",
          "name": "stdout",
          "text": [
            "Train data shape: (1950, 5)\n",
            "Validation data shape: (350, 5)\n",
            "Test data shape: (283, 5)\n"
          ]
        }
      ]
    },
    {
      "cell_type": "code",
      "source": [
        "import optuna\n",
        "import tensorflow as tf\n",
        "from tensorflow.keras import layers, backend as K\n",
        "from tensorflow.keras.optimizers import Adam\n",
        "from tensorflow.keras.callbacks import EarlyStopping\n",
        "from sklearn.metrics import mean_squared_error, mean_absolute_error, r2_score\n",
        "import numpy as np\n",
        "\n",
        "def create_sequences(data, seq_length, target_column_idx=None):\n",
        "    X, y = [], []\n",
        "    for i in range(len(data) - seq_length):\n",
        "        X.append(data[i:i+seq_length])\n",
        "        if target_column_idx is None:\n",
        "            y.append(data[i+seq_length])\n",
        "        else:\n",
        "            y.append(data[i+seq_length][target_column_idx])\n",
        "    return np.array(X), np.array(y)\n",
        "\n",
        "def smape(y_true, y_pred):\n",
        "    return 100/len(y_true) * np.sum(2 * np.abs(y_pred - y_true) / (np.abs(y_true) + np.abs(y_pred)))\n",
        "\n",
        "def mase(y_true, y_pred, y_train):\n",
        "    n = len(y_train)\n",
        "    d = np.mean(np.abs(np.diff(y_train)))\n",
        "    errors = np.abs(y_true - y_pred)\n",
        "    return errors.mean() / d\n",
        "\n",
        "def objective(trial):\n",
        "    seq_length = trial.suggest_int('seq_length', 5, 20)\n",
        "    lstm_units = trial.suggest_int('lstm_units', 32, 256)\n",
        "    num_heads = trial.suggest_int('num_heads', 2, 8)\n",
        "    ff_dim = trial.suggest_int('ff_dim', 64, 256)\n",
        "    dropout_rate = trial.suggest_float('dropout', 0.1, 0.5)\n",
        "    learning_rate = trial.suggest_float('lr', 1e-4, 1e-2, log=True)\n",
        "\n",
        "    X_train, y_train = create_sequences(train_data, seq_length, target_col)\n",
        "    X_val, y_val = create_sequences(valid_data, seq_length, target_col)\n",
        "\n",
        "    input_shape = (X_train.shape[1], X_train.shape[2])\n",
        "\n",
        "    class TransformerEncoder(layers.Layer):\n",
        "        def __init__(self, embed_dim, num_heads, ff_dim, rate=0.1):\n",
        "            super().__init__()\n",
        "            self.att = layers.MultiHeadAttention(num_heads=num_heads, key_dim=embed_dim)\n",
        "            self.ffn = tf.keras.Sequential([\n",
        "                layers.Dense(ff_dim, activation=\"relu\"),\n",
        "                layers.Dense(embed_dim),\n",
        "            ])\n",
        "            self.layernorm1 = layers.LayerNormalization()\n",
        "            self.layernorm2 = layers.LayerNormalization()\n",
        "            self.dropout1 = layers.Dropout(rate)\n",
        "            self.dropout2 = layers.Dropout(rate)\n",
        "\n",
        "        def call(self, inputs, training=False):\n",
        "            attn_output = self.att(inputs, inputs)\n",
        "            out1 = self.layernorm1(inputs + self.dropout1(attn_output, training=training))\n",
        "            ffn_output = self.ffn(out1)\n",
        "            return self.layernorm2(out1 + self.dropout2(ffn_output, training=training))\n",
        "\n",
        "    inputs = layers.Input(shape=input_shape)\n",
        "\n",
        "    x = layers.Conv1D(128, 3, activation='relu', padding='same')(inputs)\n",
        "    x = layers.MaxPooling1D(2)(x)\n",
        "    x = layers.Conv1D(128, 3, activation='relu', padding='same')(x)\n",
        "    x = layers.MaxPooling1D(2)(x)\n",
        "\n",
        "    x = layers.Bidirectional(layers.LSTM(lstm_units, return_sequences=True))(x)\n",
        "    x = layers.Bidirectional(layers.LSTM(lstm_units // 2, return_sequences=True))(x)\n",
        "\n",
        "    x = TransformerEncoder(embed_dim=int(x.shape[-1]), num_heads=num_heads, ff_dim=ff_dim, rate=dropout_rate)(x)\n",
        "\n",
        "    x = layers.GlobalAveragePooling1D()(x)\n",
        "    x = layers.Dense(64, activation='relu')(x)\n",
        "    x = layers.Dropout(dropout_rate)(x)\n",
        "    outputs = layers.Dense(1)(x)\n",
        "\n",
        "    model = tf.keras.Model(inputs, outputs)\n",
        "    model.compile(optimizer=Adam(learning_rate=learning_rate), loss='mse', metrics=['mae'])\n",
        "\n",
        "    early_stop = EarlyStopping(monitor='val_loss', patience=10, restore_best_weights=True)\n",
        "\n",
        "    model.fit(\n",
        "        X_train, y_train,\n",
        "        validation_data=(X_val, y_val),\n",
        "        epochs=50,\n",
        "        batch_size=32,\n",
        "        verbose=0,\n",
        "        callbacks=[early_stop]\n",
        "    )\n",
        "\n",
        "    val_pred = model.predict(X_val).flatten()\n",
        "\n",
        "    rmse = mean_squared_error(y_val, val_pred)\n",
        "    mse = mean_squared_error(y_val, val_pred)\n",
        "    mae = mean_absolute_error(y_val, val_pred)\n",
        "    r2 = r2_score(y_val, val_pred)\n",
        "    smape_val = smape(y_val, val_pred)\n",
        "    mase_val = mase(y_val, val_pred, y_train)\n",
        "\n",
        "    print(f\"Trial {trial.number} -- RMSE: {rmse:.5f}, MSE: {mse:.5f}, MAE: {mae:.5f}, R2: {r2:.5f}, sMAPE: {smape_val:.3f}%, MASE: {mase_val:.5f}\")\n",
        "\n",
        "    # Store metrics to retrieve later\n",
        "    trial.set_user_attr('mse', mse)\n",
        "    trial.set_user_attr('mae', mae)\n",
        "    trial.set_user_attr('r2', r2)\n",
        "    trial.set_user_attr('smape', smape_val)\n",
        "    trial.set_user_attr('mase', mase_val)\n",
        "\n",
        "    K.clear_session()\n",
        "\n",
        "    return rmse\n",
        "\n",
        "study = optuna.create_study(direction='minimize')\n",
        "study.optimize(objective, n_trials=30)\n",
        "\n",
        "best_trial = study.best_trial\n",
        "\n",
        "print(\"Best trial metrics:\")\n",
        "print(f\"RMSE: {best_trial.value}\")\n",
        "print(f\"MSE: {best_trial.user_attrs['mse']}\")\n",
        "print(f\"MAE: {best_trial.user_attrs['mae']}\")\n",
        "print(f\"R2: {best_trial.user_attrs['r2']}\")\n",
        "print(f\"sMAPE: {best_trial.user_attrs['smape']}\")\n",
        "print(f\"MASE: {best_trial.user_attrs['mase']}\")\n",
        "print(f\"Best hyperparameters: {best_trial.params}\")\n"
      ],
      "metadata": {
        "colab": {
          "base_uri": "https://localhost:8080/"
        },
        "id": "w-2jY4OKmfa3",
        "outputId": "c3e3452a-cae1-4265-cd3a-d35251990fce"
      },
      "execution_count": null,
      "outputs": [
        {
          "output_type": "stream",
          "name": "stderr",
          "text": [
            "[I 2025-06-15 08:04:56,646] A new study created in memory with name: no-name-f0b10758-3987-4fe1-aff8-f93c9acebe6a\n"
          ]
        },
        {
          "output_type": "stream",
          "name": "stdout",
          "text": [
            "\u001b[1m11/11\u001b[0m \u001b[32m━━━━━━━━━━━━━━━━━━━━\u001b[0m\u001b[37m\u001b[0m \u001b[1m1s\u001b[0m 57ms/step\n",
            "Trial 0 -- RMSE: 0.00032, MSE: 0.00032, MAE: 0.01394, R2: 0.76089, sMAPE: 1.948%, MASE: 2.01833\n"
          ]
        },
        {
          "output_type": "stream",
          "name": "stderr",
          "text": [
            "[I 2025-06-15 08:05:34,943] Trial 0 finished with value: 0.00031530366571615707 and parameters: {'seq_length': 14, 'lstm_units': 85, 'num_heads': 5, 'ff_dim': 223, 'dropout': 0.16433221481910124, 'lr': 0.0022685555464691887}. Best is trial 0 with value: 0.00031530366571615707.\n"
          ]
        },
        {
          "output_type": "stream",
          "name": "stdout",
          "text": [
            "\u001b[1m11/11\u001b[0m \u001b[32m━━━━━━━━━━━━━━━━━━━━\u001b[0m\u001b[37m\u001b[0m \u001b[1m1s\u001b[0m 57ms/step\n",
            "Trial 1 -- RMSE: 0.00043, MSE: 0.00043, MAE: 0.01630, R2: 0.66884, sMAPE: 2.259%, MASE: 2.35210\n"
          ]
        },
        {
          "output_type": "stream",
          "name": "stderr",
          "text": [
            "[I 2025-06-15 08:06:11,929] Trial 1 finished with value: 0.0004282844134534899 and parameters: {'seq_length': 6, 'lstm_units': 241, 'num_heads': 3, 'ff_dim': 222, 'dropout': 0.17367236219445795, 'lr': 0.00296282804608005}. Best is trial 0 with value: 0.00031530366571615707.\n"
          ]
        },
        {
          "output_type": "stream",
          "name": "stdout",
          "text": [
            "\u001b[1m11/11\u001b[0m \u001b[32m━━━━━━━━━━━━━━━━━━━━\u001b[0m\u001b[37m\u001b[0m \u001b[1m1s\u001b[0m 57ms/step\n",
            "Trial 2 -- RMSE: 0.00034, MSE: 0.00034, MAE: 0.01432, R2: 0.74067, sMAPE: 2.005%, MASE: 2.07326\n"
          ]
        },
        {
          "output_type": "stream",
          "name": "stderr",
          "text": [
            "[I 2025-06-15 08:07:03,595] Trial 2 finished with value: 0.0003381350137618922 and parameters: {'seq_length': 9, 'lstm_units': 249, 'num_heads': 3, 'ff_dim': 88, 'dropout': 0.41772314161284085, 'lr': 0.0004121143965312394}. Best is trial 0 with value: 0.00031530366571615707.\n"
          ]
        },
        {
          "output_type": "stream",
          "name": "stdout",
          "text": [
            "\u001b[1m11/11\u001b[0m \u001b[32m━━━━━━━━━━━━━━━━━━━━\u001b[0m\u001b[37m\u001b[0m \u001b[1m1s\u001b[0m 57ms/step\n",
            "Trial 3 -- RMSE: 0.00039, MSE: 0.00039, MAE: 0.01554, R2: 0.70246, sMAPE: 2.161%, MASE: 2.24870\n"
          ]
        },
        {
          "output_type": "stream",
          "name": "stderr",
          "text": [
            "[I 2025-06-15 08:08:07,212] Trial 3 finished with value: 0.0003934663707195972 and parameters: {'seq_length': 15, 'lstm_units': 184, 'num_heads': 3, 'ff_dim': 243, 'dropout': 0.48598793046607136, 'lr': 0.0012298752013689966}. Best is trial 0 with value: 0.00031530366571615707.\n"
          ]
        },
        {
          "output_type": "stream",
          "name": "stdout",
          "text": [
            "\u001b[1m11/11\u001b[0m \u001b[32m━━━━━━━━━━━━━━━━━━━━\u001b[0m\u001b[37m\u001b[0m \u001b[1m1s\u001b[0m 77ms/step\n",
            "Trial 4 -- RMSE: 0.00039, MSE: 0.00039, MAE: 0.01591, R2: 0.69864, sMAPE: 2.227%, MASE: 2.30612\n"
          ]
        },
        {
          "output_type": "stream",
          "name": "stderr",
          "text": [
            "[I 2025-06-15 08:09:07,658] Trial 4 finished with value: 0.00039397231484452803 and parameters: {'seq_length': 10, 'lstm_units': 238, 'num_heads': 8, 'ff_dim': 229, 'dropout': 0.2690872621650775, 'lr': 0.00022690337531808152}. Best is trial 0 with value: 0.00031530366571615707.\n"
          ]
        },
        {
          "output_type": "stream",
          "name": "stdout",
          "text": [
            "\u001b[1m11/11\u001b[0m \u001b[32m━━━━━━━━━━━━━━━━━━━━\u001b[0m\u001b[37m\u001b[0m \u001b[1m1s\u001b[0m 55ms/step\n",
            "Trial 5 -- RMSE: 0.00039, MSE: 0.00039, MAE: 0.01587, R2: 0.69906, sMAPE: 2.213%, MASE: 2.30026\n"
          ]
        },
        {
          "output_type": "stream",
          "name": "stderr",
          "text": [
            "[I 2025-06-15 08:09:42,711] Trial 5 finished with value: 0.00039343149539743463 and parameters: {'seq_length': 10, 'lstm_units': 92, 'num_heads': 8, 'ff_dim': 103, 'dropout': 0.2036512811834623, 'lr': 0.0002529467330876886}. Best is trial 0 with value: 0.00031530366571615707.\n"
          ]
        },
        {
          "output_type": "stream",
          "name": "stdout",
          "text": [
            "\u001b[1m11/11\u001b[0m \u001b[32m━━━━━━━━━━━━━━━━━━━━\u001b[0m\u001b[37m\u001b[0m \u001b[1m1s\u001b[0m 58ms/step\n",
            "Trial 6 -- RMSE: 0.00029, MSE: 0.00029, MAE: 0.01350, R2: 0.77733, sMAPE: 1.886%, MASE: 1.95320\n"
          ]
        },
        {
          "output_type": "stream",
          "name": "stderr",
          "text": [
            "[I 2025-06-15 08:10:58,626] Trial 6 finished with value: 0.00029445759545443487 and parameters: {'seq_length': 15, 'lstm_units': 206, 'num_heads': 4, 'ff_dim': 65, 'dropout': 0.16355415072242888, 'lr': 0.0003175952852940278}. Best is trial 6 with value: 0.00029445759545443487.\n"
          ]
        },
        {
          "output_type": "stream",
          "name": "stdout",
          "text": [
            "\u001b[1m11/11\u001b[0m \u001b[32m━━━━━━━━━━━━━━━━━━━━\u001b[0m\u001b[37m\u001b[0m \u001b[1m1s\u001b[0m 55ms/step\n",
            "Trial 7 -- RMSE: 0.00019, MSE: 0.00019, MAE: 0.01091, R2: 0.85639, sMAPE: 1.533%, MASE: 1.57889\n"
          ]
        },
        {
          "output_type": "stream",
          "name": "stderr",
          "text": [
            "[I 2025-06-15 08:12:07,418] Trial 7 finished with value: 0.0001872472019174284 and parameters: {'seq_length': 9, 'lstm_units': 48, 'num_heads': 6, 'ff_dim': 217, 'dropout': 0.17875360440356808, 'lr': 0.0006980519533981587}. Best is trial 7 with value: 0.0001872472019174284.\n"
          ]
        },
        {
          "output_type": "stream",
          "name": "stdout",
          "text": [
            "\u001b[1m11/11\u001b[0m \u001b[32m━━━━━━━━━━━━━━━━━━━━\u001b[0m\u001b[37m\u001b[0m \u001b[1m1s\u001b[0m 57ms/step\n",
            "Trial 8 -- RMSE: 0.00023, MSE: 0.00023, MAE: 0.01170, R2: 0.82619, sMAPE: 1.636%, MASE: 1.69469\n"
          ]
        },
        {
          "output_type": "stream",
          "name": "stderr",
          "text": [
            "[I 2025-06-15 08:12:58,213] Trial 8 finished with value: 0.00022864471670077532 and parameters: {'seq_length': 13, 'lstm_units': 48, 'num_heads': 7, 'ff_dim': 198, 'dropout': 0.34046263509728575, 'lr': 0.0014008656370707545}. Best is trial 7 with value: 0.0001872472019174284.\n"
          ]
        },
        {
          "output_type": "stream",
          "name": "stdout",
          "text": [
            "\u001b[1m11/11\u001b[0m \u001b[32m━━━━━━━━━━━━━━━━━━━━\u001b[0m\u001b[37m\u001b[0m \u001b[1m1s\u001b[0m 57ms/step\n",
            "Trial 9 -- RMSE: 0.00032, MSE: 0.00032, MAE: 0.01412, R2: 0.75656, sMAPE: 1.961%, MASE: 2.03999\n"
          ]
        },
        {
          "output_type": "stream",
          "name": "stderr",
          "text": [
            "[I 2025-06-15 08:13:40,182] Trial 9 finished with value: 0.000315758373922617 and parameters: {'seq_length': 7, 'lstm_units': 127, 'num_heads': 3, 'ff_dim': 68, 'dropout': 0.33888039657667324, 'lr': 0.006104988004365035}. Best is trial 7 with value: 0.0001872472019174284.\n"
          ]
        },
        {
          "output_type": "stream",
          "name": "stdout",
          "text": [
            "\u001b[1m11/11\u001b[0m \u001b[32m━━━━━━━━━━━━━━━━━━━━\u001b[0m\u001b[37m\u001b[0m \u001b[1m2s\u001b[0m 81ms/step\n",
            "Trial 10 -- RMSE: 0.00029, MSE: 0.00029, MAE: 0.01358, R2: 0.78196, sMAPE: 1.911%, MASE: 1.96633\n"
          ]
        },
        {
          "output_type": "stream",
          "name": "stderr",
          "text": [
            "[I 2025-06-15 08:14:35,384] Trial 10 finished with value: 0.0002908791413683463 and parameters: {'seq_length': 18, 'lstm_units': 38, 'num_heads': 6, 'ff_dim': 159, 'dropout': 0.2581534587514386, 'lr': 0.0001101911238259691}. Best is trial 7 with value: 0.0001872472019174284.\n"
          ]
        },
        {
          "output_type": "stream",
          "name": "stdout",
          "text": [
            "\u001b[1m11/11\u001b[0m \u001b[32m━━━━━━━━━━━━━━━━━━━━\u001b[0m\u001b[37m\u001b[0m \u001b[1m1s\u001b[0m 64ms/step\n",
            "Trial 11 -- RMSE: 0.00019, MSE: 0.00019, MAE: 0.01104, R2: 0.85413, sMAPE: 1.550%, MASE: 1.59939\n"
          ]
        },
        {
          "output_type": "stream",
          "name": "stderr",
          "text": [
            "[I 2025-06-15 08:15:40,460] Trial 11 finished with value: 0.0001913981395606533 and parameters: {'seq_length': 12, 'lstm_units': 33, 'num_heads': 6, 'ff_dim': 182, 'dropout': 0.3657780340335919, 'lr': 0.0007827719460038212}. Best is trial 7 with value: 0.0001872472019174284.\n"
          ]
        },
        {
          "output_type": "stream",
          "name": "stdout",
          "text": [
            "\u001b[1m11/11\u001b[0m \u001b[32m━━━━━━━━━━━━━━━━━━━━\u001b[0m\u001b[37m\u001b[0m \u001b[1m1s\u001b[0m 56ms/step\n",
            "Trial 12 -- RMSE: 0.00041, MSE: 0.00041, MAE: 0.01610, R2: 0.68898, sMAPE: 2.248%, MASE: 2.33385\n"
          ]
        },
        {
          "output_type": "stream",
          "name": "stderr",
          "text": [
            "[I 2025-06-15 08:16:25,897] Trial 12 finished with value: 0.00040717817664898587 and parameters: {'seq_length': 11, 'lstm_units': 79, 'num_heads': 6, 'ff_dim': 168, 'dropout': 0.40065537065939677, 'lr': 0.0005443526530491421}. Best is trial 7 with value: 0.0001872472019174284.\n"
          ]
        },
        {
          "output_type": "stream",
          "name": "stdout",
          "text": [
            "\u001b[1m11/11\u001b[0m \u001b[32m━━━━━━━━━━━━━━━━━━━━\u001b[0m\u001b[37m\u001b[0m \u001b[1m1s\u001b[0m 58ms/step\n",
            "Trial 13 -- RMSE: 0.00014, MSE: 0.00014, MAE: 0.00924, R2: 0.89621, sMAPE: 1.289%, MASE: 1.33850\n"
          ]
        },
        {
          "output_type": "stream",
          "name": "stderr",
          "text": [
            "[I 2025-06-15 08:17:32,264] Trial 13 finished with value: 0.00013846291942247864 and parameters: {'seq_length': 18, 'lstm_units': 35, 'num_heads': 6, 'ff_dim': 177, 'dropout': 0.11947778176649274, 'lr': 0.0007252552292121351}. Best is trial 13 with value: 0.00013846291942247864.\n"
          ]
        },
        {
          "output_type": "stream",
          "name": "stdout",
          "text": [
            "\u001b[1m11/11\u001b[0m \u001b[32m━━━━━━━━━━━━━━━━━━━━\u001b[0m\u001b[37m\u001b[0m \u001b[1m1s\u001b[0m 82ms/step\n",
            "Trial 14 -- RMSE: 0.00025, MSE: 0.00025, MAE: 0.01228, R2: 0.81222, sMAPE: 1.708%, MASE: 1.77817\n"
          ]
        },
        {
          "output_type": "stream",
          "name": "stderr",
          "text": [
            "[I 2025-06-15 08:18:27,879] Trial 14 finished with value: 0.00025190229284550867 and parameters: {'seq_length': 20, 'lstm_units': 128, 'num_heads': 5, 'ff_dim': 141, 'dropout': 0.10264683757088403, 'lr': 0.0007838201409862848}. Best is trial 13 with value: 0.00013846291942247864.\n"
          ]
        },
        {
          "output_type": "stream",
          "name": "stdout",
          "text": [
            "\u001b[1m11/11\u001b[0m \u001b[32m━━━━━━━━━━━━━━━━━━━━\u001b[0m\u001b[37m\u001b[0m \u001b[1m1s\u001b[0m 57ms/step\n",
            "Trial 15 -- RMSE: 0.00049, MSE: 0.00049, MAE: 0.01748, R2: 0.63254, sMAPE: 2.454%, MASE: 2.53108\n"
          ]
        },
        {
          "output_type": "stream",
          "name": "stderr",
          "text": [
            "[I 2025-06-15 08:19:13,038] Trial 15 finished with value: 0.0004888294181006041 and parameters: {'seq_length': 17, 'lstm_units': 67, 'num_heads': 7, 'ff_dim': 132, 'dropout': 0.12330485976956011, 'lr': 0.002341416218180232}. Best is trial 13 with value: 0.00013846291942247864.\n"
          ]
        },
        {
          "output_type": "stream",
          "name": "stdout",
          "text": [
            "\u001b[1m11/11\u001b[0m \u001b[32m━━━━━━━━━━━━━━━━━━━━\u001b[0m\u001b[37m\u001b[0m \u001b[1m1s\u001b[0m 58ms/step\n",
            "Trial 16 -- RMSE: 0.00042, MSE: 0.00042, MAE: 0.01658, R2: 0.67396, sMAPE: 2.308%, MASE: 2.39255\n"
          ]
        },
        {
          "output_type": "stream",
          "name": "stderr",
          "text": [
            "[I 2025-06-15 08:19:57,602] Trial 16 finished with value: 0.00042044790863239633 and parameters: {'seq_length': 5, 'lstm_units': 161, 'num_heads': 7, 'ff_dim': 197, 'dropout': 0.24523725335287067, 'lr': 0.00015152078102996101}. Best is trial 13 with value: 0.00013846291942247864.\n"
          ]
        },
        {
          "output_type": "stream",
          "name": "stdout",
          "text": [
            "\u001b[1m11/11\u001b[0m \u001b[32m━━━━━━━━━━━━━━━━━━━━\u001b[0m\u001b[37m\u001b[0m \u001b[1m1s\u001b[0m 56ms/step\n",
            "Trial 17 -- RMSE: 0.00026, MSE: 0.00026, MAE: 0.01253, R2: 0.80815, sMAPE: 1.752%, MASE: 1.81352\n"
          ]
        },
        {
          "output_type": "stream",
          "name": "stderr",
          "text": [
            "[I 2025-06-15 08:20:55,981] Trial 17 finished with value: 0.00025660534498774955 and parameters: {'seq_length': 19, 'lstm_units': 110, 'num_heads': 4, 'ff_dim': 254, 'dropout': 0.2128460165475634, 'lr': 0.006088253029058707}. Best is trial 13 with value: 0.00013846291942247864.\n"
          ]
        },
        {
          "output_type": "stream",
          "name": "stdout",
          "text": [
            "\u001b[1m11/11\u001b[0m \u001b[32m━━━━━━━━━━━━━━━━━━━━\u001b[0m\u001b[37m\u001b[0m \u001b[1m1s\u001b[0m 56ms/step\n",
            "Trial 18 -- RMSE: 0.00013, MSE: 0.00013, MAE: 0.00890, R2: 0.90031, sMAPE: 1.248%, MASE: 1.28735\n"
          ]
        },
        {
          "output_type": "stream",
          "name": "stderr",
          "text": [
            "[I 2025-06-15 08:22:11,256] Trial 18 finished with value: 0.00012964783325436884 and parameters: {'seq_length': 8, 'lstm_units': 65, 'num_heads': 6, 'ff_dim': 196, 'dropout': 0.1294905930658956, 'lr': 0.0005653838634579425}. Best is trial 18 with value: 0.00012964783325436884.\n"
          ]
        },
        {
          "output_type": "stream",
          "name": "stdout",
          "text": [
            "\u001b[1m11/11\u001b[0m \u001b[32m━━━━━━━━━━━━━━━━━━━━\u001b[0m\u001b[37m\u001b[0m \u001b[1m1s\u001b[0m 55ms/step\n",
            "Trial 19 -- RMSE: 0.00020, MSE: 0.00020, MAE: 0.01075, R2: 0.85152, sMAPE: 1.508%, MASE: 1.55715\n"
          ]
        },
        {
          "output_type": "stream",
          "name": "stderr",
          "text": [
            "[I 2025-06-15 08:23:21,155] Trial 19 finished with value: 0.00019751716877613112 and parameters: {'seq_length': 17, 'lstm_units': 68, 'num_heads': 2, 'ff_dim': 140, 'dropout': 0.12669240799388776, 'lr': 0.0014727785003358733}. Best is trial 18 with value: 0.00012964783325436884.\n"
          ]
        },
        {
          "output_type": "stream",
          "name": "stdout",
          "text": [
            "\u001b[1m11/11\u001b[0m \u001b[32m━━━━━━━━━━━━━━━━━━━━\u001b[0m\u001b[37m\u001b[0m \u001b[1m2s\u001b[0m 82ms/step\n",
            "Trial 20 -- RMSE: 0.00017, MSE: 0.00017, MAE: 0.01012, R2: 0.87223, sMAPE: 1.418%, MASE: 1.46238\n"
          ]
        },
        {
          "output_type": "stream",
          "name": "stderr",
          "text": [
            "[I 2025-06-15 08:24:33,436] Trial 20 finished with value: 0.00016571693559284004 and parameters: {'seq_length': 7, 'lstm_units': 108, 'num_heads': 5, 'ff_dim': 195, 'dropout': 0.13548135815990234, 'lr': 0.0004512325216670192}. Best is trial 18 with value: 0.00012964783325436884.\n"
          ]
        },
        {
          "output_type": "stream",
          "name": "stdout",
          "text": [
            "\u001b[1m11/11\u001b[0m \u001b[32m━━━━━━━━━━━━━━━━━━━━\u001b[0m\u001b[37m\u001b[0m \u001b[1m1s\u001b[0m 56ms/step\n",
            "Trial 21 -- RMSE: 0.00026, MSE: 0.00026, MAE: 0.01309, R2: 0.79760, sMAPE: 1.834%, MASE: 1.89157\n"
          ]
        },
        {
          "output_type": "stream",
          "name": "stderr",
          "text": [
            "[I 2025-06-15 08:25:20,052] Trial 21 finished with value: 0.00026251508245475993 and parameters: {'seq_length': 7, 'lstm_units': 105, 'num_heads': 5, 'ff_dim': 196, 'dropout': 0.10035576365905427, 'lr': 0.0004373206038384133}. Best is trial 18 with value: 0.00012964783325436884.\n"
          ]
        },
        {
          "output_type": "stream",
          "name": "stdout",
          "text": [
            "\u001b[1m11/11\u001b[0m \u001b[32m━━━━━━━━━━━━━━━━━━━━\u001b[0m\u001b[37m\u001b[0m \u001b[1m1s\u001b[0m 54ms/step\n",
            "Trial 22 -- RMSE: 0.00014, MSE: 0.00014, MAE: 0.00916, R2: 0.89359, sMAPE: 1.284%, MASE: 1.32441\n"
          ]
        },
        {
          "output_type": "stream",
          "name": "stderr",
          "text": [
            "[I 2025-06-15 08:26:36,372] Trial 22 finished with value: 0.00013838635695965153 and parameters: {'seq_length': 8, 'lstm_units': 56, 'num_heads': 5, 'ff_dim': 170, 'dropout': 0.14851656380076259, 'lr': 0.0005322155222066956}. Best is trial 18 with value: 0.00012964783325436884.\n"
          ]
        },
        {
          "output_type": "stream",
          "name": "stdout",
          "text": [
            "\u001b[1m11/11\u001b[0m \u001b[32m━━━━━━━━━━━━━━━━━━━━\u001b[0m\u001b[37m\u001b[0m \u001b[1m1s\u001b[0m 57ms/step\n",
            "Trial 23 -- RMSE: 0.00020, MSE: 0.00020, MAE: 0.01080, R2: 0.84582, sMAPE: 1.511%, MASE: 1.56216\n"
          ]
        },
        {
          "output_type": "stream",
          "name": "stderr",
          "text": [
            "[I 2025-06-15 08:27:20,091] Trial 23 finished with value: 0.0002004998846936483 and parameters: {'seq_length': 8, 'lstm_units': 55, 'num_heads': 4, 'ff_dim': 162, 'dropout': 0.21356759451791923, 'lr': 0.0010520579324114201}. Best is trial 18 with value: 0.00012964783325436884.\n"
          ]
        },
        {
          "output_type": "stream",
          "name": "stdout",
          "text": [
            "\u001b[1m11/11\u001b[0m \u001b[32m━━━━━━━━━━━━━━━━━━━━\u001b[0m\u001b[37m\u001b[0m \u001b[1m1s\u001b[0m 57ms/step\n",
            "Trial 24 -- RMSE: 0.00026, MSE: 0.00026, MAE: 0.01305, R2: 0.79613, sMAPE: 1.823%, MASE: 1.88356\n"
          ]
        },
        {
          "output_type": "stream",
          "name": "stderr",
          "text": [
            "[I 2025-06-15 08:27:55,086] Trial 24 finished with value: 0.0002628971662609321 and parameters: {'seq_length': 5, 'lstm_units': 62, 'num_heads': 7, 'ff_dim': 177, 'dropout': 0.14582233014472196, 'lr': 0.00017603759445469842}. Best is trial 18 with value: 0.00012964783325436884.\n"
          ]
        },
        {
          "output_type": "stream",
          "name": "stdout",
          "text": [
            "\u001b[1m11/11\u001b[0m \u001b[32m━━━━━━━━━━━━━━━━━━━━\u001b[0m\u001b[37m\u001b[0m \u001b[1m1s\u001b[0m 57ms/step\n",
            "Trial 25 -- RMSE: 0.00031, MSE: 0.00031, MAE: 0.01370, R2: 0.76273, sMAPE: 1.914%, MASE: 1.98557\n"
          ]
        },
        {
          "output_type": "stream",
          "name": "stderr",
          "text": [
            "[I 2025-06-15 08:28:38,333] Trial 25 finished with value: 0.0003113140378901579 and parameters: {'seq_length': 12, 'lstm_units': 149, 'num_heads': 6, 'ff_dim': 127, 'dropout': 0.3013921708522722, 'lr': 0.0006081206945372393}. Best is trial 18 with value: 0.00012964783325436884.\n"
          ]
        },
        {
          "output_type": "stream",
          "name": "stdout",
          "text": [
            "\u001b[1m11/11\u001b[0m \u001b[32m━━━━━━━━━━━━━━━━━━━━\u001b[0m\u001b[37m\u001b[0m \u001b[1m1s\u001b[0m 55ms/step\n",
            "Trial 26 -- RMSE: 0.00017, MSE: 0.00017, MAE: 0.01002, R2: 0.87227, sMAPE: 1.400%, MASE: 1.45183\n"
          ]
        },
        {
          "output_type": "stream",
          "name": "stderr",
          "text": [
            "[I 2025-06-15 08:29:53,586] Trial 26 finished with value: 0.00016698262557278708 and parameters: {'seq_length': 10, 'lstm_units': 32, 'num_heads': 5, 'ff_dim': 153, 'dropout': 0.19447832783561353, 'lr': 0.00033234250194858535}. Best is trial 18 with value: 0.00012964783325436884.\n"
          ]
        },
        {
          "output_type": "stream",
          "name": "stdout",
          "text": [
            "\u001b[1m11/11\u001b[0m \u001b[32m━━━━━━━━━━━━━━━━━━━━\u001b[0m\u001b[37m\u001b[0m \u001b[1m1s\u001b[0m 58ms/step\n",
            "Trial 27 -- RMSE: 0.00016, MSE: 0.00016, MAE: 0.00982, R2: 0.88169, sMAPE: 1.370%, MASE: 1.42230\n"
          ]
        },
        {
          "output_type": "stream",
          "name": "stderr",
          "text": [
            "[I 2025-06-15 08:31:07,908] Trial 27 finished with value: 0.00015691074324411462 and parameters: {'seq_length': 16, 'lstm_units': 80, 'num_heads': 6, 'ff_dim': 184, 'dropout': 0.23525713946514148, 'lr': 0.009735864701702018}. Best is trial 18 with value: 0.00012964783325436884.\n"
          ]
        },
        {
          "output_type": "stream",
          "name": "stdout",
          "text": [
            "\u001b[1m11/11\u001b[0m \u001b[32m━━━━━━━━━━━━━━━━━━━━\u001b[0m\u001b[37m\u001b[0m \u001b[1m1s\u001b[0m 54ms/step\n",
            "Trial 28 -- RMSE: 0.00023, MSE: 0.00023, MAE: 0.01194, R2: 0.82534, sMAPE: 1.671%, MASE: 1.72701\n"
          ]
        },
        {
          "output_type": "stream",
          "name": "stderr",
          "text": [
            "[I 2025-06-15 08:31:47,357] Trial 28 finished with value: 0.0002271444263403728 and parameters: {'seq_length': 8, 'lstm_units': 95, 'num_heads': 4, 'ff_dim': 174, 'dropout': 0.14517133590203632, 'lr': 0.0009569372526297382}. Best is trial 18 with value: 0.00012964783325436884.\n"
          ]
        },
        {
          "output_type": "stream",
          "name": "stdout",
          "text": [
            "\u001b[1m11/11\u001b[0m \u001b[32m━━━━━━━━━━━━━━━━━━━━\u001b[0m\u001b[37m\u001b[0m \u001b[1m1s\u001b[0m 57ms/step\n",
            "Trial 29 -- RMSE: 0.00042, MSE: 0.00042, MAE: 0.01576, R2: 0.68507, sMAPE: 2.202%, MASE: 2.28243\n"
          ]
        },
        {
          "output_type": "stream",
          "name": "stderr",
          "text": [
            "[I 2025-06-15 08:32:22,125] Trial 29 finished with value: 0.00041528559656572146 and parameters: {'seq_length': 14, 'lstm_units': 78, 'num_heads': 5, 'ff_dim': 211, 'dropout': 0.2920860480971425, 'lr': 0.0015758644140431754}. Best is trial 18 with value: 0.00012964783325436884.\n"
          ]
        },
        {
          "output_type": "stream",
          "name": "stdout",
          "text": [
            "Best trial metrics:\n",
            "RMSE: 0.00012964783325436884\n",
            "MSE: 0.00012964783325436884\n",
            "MAE: 0.008903898894715866\n",
            "R2: 0.9003060503919056\n",
            "sMAPE: 1.24832141103975\n",
            "MASE: 1.2873486855960852\n",
            "Best hyperparameters: {'seq_length': 8, 'lstm_units': 65, 'num_heads': 6, 'ff_dim': 196, 'dropout': 0.1294905930658956, 'lr': 0.0005653838634579425}\n"
          ]
        }
      ]
    },
    {
      "cell_type": "code",
      "source": [
        "from sklearn.preprocessing import StandardScaler,MinMaxScaler\n",
        "from tensorflow.keras import optimizers\n",
        "from tensorflow.keras.models import Sequential\n",
        "from tensorflow.keras.layers import LSTM,Conv1D, MaxPooling1D\n",
        "from tensorflow.keras.layers import Dense\n",
        "from tensorflow.keras.layers import Dropout\n",
        "from tensorflow.keras.layers import BatchNormalization\n",
        "from tensorflow.keras.layers import Flatten\n",
        "import tensorflow as tf\n",
        "import matplotlib.pyplot as plt\n",
        "import seaborn as sns\n",
        "import plotly.express as px\n",
        "from keras.callbacks import ModelCheckpoint, EarlyStopping\n",
        "from tensorflow.keras.models import Sequential\n",
        "from tensorflow.keras.layers import Conv1D, MaxPooling1D, Flatten, Dense, Dropout\n",
        "from tensorflow.keras.optimizers import Adam\n"
      ],
      "metadata": {
        "id": "PfhIkcA1r49S"
      },
      "execution_count": 9,
      "outputs": []
    },
    {
      "cell_type": "code",
      "source": [
        "def create_sequences(data, seq_length, target_column_idx=None):\n",
        "    X, y = [], []\n",
        "    for i in range(len(data) - seq_length):\n",
        "        X.append(data[i:i+seq_length])\n",
        "        if target_column_idx is None:\n",
        "            y.append(data[i+seq_length])\n",
        "        else:\n",
        "            y.append(data[i+seq_length][target_column_idx])\n",
        "    return np.array(X), np.array(y)\n",
        "\n",
        "\n",
        "seq_length = 8\n",
        "target_col = 0\n",
        "\n",
        "X_train, y_train = create_sequences(train_data, seq_length, target_col)\n",
        "X_val, y_val = create_sequences(valid_data, seq_length, target_col)\n",
        "X_test, y_test = create_sequences(test_data, seq_length, target_col)\n",
        "\n",
        "print(X_train.shape)\n",
        "print(y_train.shape)"
      ],
      "metadata": {
        "colab": {
          "base_uri": "https://localhost:8080/"
        },
        "id": "__MlH8Ris-Fb",
        "outputId": "7668657b-79ac-4133-a1d9-2f3407cd419a"
      },
      "execution_count": 12,
      "outputs": [
        {
          "output_type": "stream",
          "name": "stdout",
          "text": [
            "(1942, 8, 5)\n",
            "(1942,)\n"
          ]
        }
      ]
    },
    {
      "cell_type": "code",
      "source": [
        "y_train"
      ],
      "metadata": {
        "colab": {
          "base_uri": "https://localhost:8080/"
        },
        "id": "yjVP_ZnSE-Zl",
        "outputId": "cbb632e6-d3c1-44d6-92e3-91a42c1d805e"
      },
      "execution_count": null,
      "outputs": [
        {
          "output_type": "execute_result",
          "data": {
            "text/plain": [
              "array([0.51276304, 0.51849085, 0.52129249, ..., 0.68721205, 0.69163242,\n",
              "       0.7106836 ])"
            ]
          },
          "metadata": {},
          "execution_count": 45
        }
      ]
    },
    {
      "cell_type": "code",
      "source": [
        "from tensorflow.keras.models import Model\n",
        "from tensorflow.keras.layers import Input, Conv1D, MaxPooling1D, Bidirectional, LSTM, Dense, Dropout, GlobalAveragePooling1D\n",
        "from tensorflow.keras.callbacks import EarlyStopping, ReduceLROnPlateau\n",
        "from tensorflow.keras.optimizers import Adam\n",
        "import tensorflow as tf\n",
        "\n",
        "# --- Transformer Encoder Class ---\n",
        "class TransformerEncoder(tf.keras.layers.Layer):\n",
        "    def __init__(self, embed_dim, num_heads, ff_dim, rate=0.129):\n",
        "        super().__init__()\n",
        "        self.att = tf.keras.layers.MultiHeadAttention(num_heads=num_heads, key_dim=embed_dim)\n",
        "        self.ffn = tf.keras.Sequential([\n",
        "            Dense(ff_dim, activation=\"relu\"),\n",
        "            Dense(embed_dim)\n",
        "        ])\n",
        "        self.layernorm1 = tf.keras.layers.LayerNormalization()\n",
        "        self.layernorm2 = tf.keras.layers.LayerNormalization()\n",
        "        self.dropout1 = tf.keras.layers.Dropout(rate)\n",
        "        self.dropout2 = tf.keras.layers.Dropout(rate)\n",
        "\n",
        "    def call(self, inputs, training=False):\n",
        "        attn_output = self.att(inputs, inputs)\n",
        "        out1 = self.layernorm1(inputs + self.dropout1(attn_output, training=training))\n",
        "        ffn_output = self.ffn(out1)\n",
        "        return self.layernorm2(out1 + self.dropout2(ffn_output, training=training))\n",
        "\n",
        "# --- Build Hybrid Model with Best Hyperparameters ---\n",
        "def build_hybrid_model(input_shape, lstm_units=65, num_heads=6, ff_dim=196, dropout_rate=0.129):\n",
        "    inputs = Input(shape=input_shape)\n",
        "\n",
        "    x = Conv1D(filters=128, kernel_size=3, activation='relu', padding='same')(inputs)\n",
        "    x = MaxPooling1D(pool_size=2)(x)\n",
        "    x = Conv1D(filters=128, kernel_size=3, activation='relu', padding='same')(x)\n",
        "    x = MaxPooling1D(pool_size=2)(x)\n",
        "\n",
        "    x = Bidirectional(LSTM(lstm_units, return_sequences=True))(x)\n",
        "    x = Bidirectional(LSTM(lstm_units // 2, return_sequences=True))(x)\n",
        "\n",
        "    x = TransformerEncoder(embed_dim=x.shape[-1], num_heads=num_heads, ff_dim=ff_dim, rate=dropout_rate)(x)\n",
        "\n",
        "    x = GlobalAveragePooling1D()(x)\n",
        "    x = Dense(64, activation='relu')(x)\n",
        "    x = Dropout(dropout_rate)(x)\n",
        "    outputs = Dense(1)(x)\n",
        "\n",
        "    model = Model(inputs=inputs, outputs=outputs)\n",
        "    return model\n",
        "\n",
        "\n",
        "\n",
        "input_shape = (X_train.shape[1], X_train.shape[2])\n",
        "model = build_hybrid_model(\n",
        "    input_shape=input_shape,\n",
        "    lstm_units=65,\n",
        "    num_heads=6,\n",
        "    ff_dim=196,\n",
        "    dropout_rate=0.129\n",
        ")\n",
        "\n",
        "model.compile(optimizer=Adam(learning_rate=0.000565), loss='mse', metrics=['mae'])\n",
        "\n",
        "early_stopping = EarlyStopping(monitor='val_loss', mode='min', patience=50, restore_best_weights=True)\n",
        "reduce_lr = ReduceLROnPlateau(monitor='val_loss', factor=0.5, patience=3, min_lr=1e-6, verbose=1)\n",
        "\n",
        "history = model.fit(\n",
        "    X_train, y_train,\n",
        "    validation_data=(X_val, y_val),\n",
        "    epochs=100,\n",
        "    batch_size=32,\n",
        "    verbose=1,\n",
        "    callbacks=[early_stopping, reduce_lr]\n",
        ")\n"
      ],
      "metadata": {
        "colab": {
          "base_uri": "https://localhost:8080/"
        },
        "id": "CeJDV7ygtDA7",
        "outputId": "cbbdf1a7-ac45-433d-d4f5-c3c9f8704d49"
      },
      "execution_count": 13,
      "outputs": [
        {
          "output_type": "stream",
          "name": "stdout",
          "text": [
            "Epoch 1/100\n",
            "\u001b[1m61/61\u001b[0m \u001b[32m━━━━━━━━━━━━━━━━━━━━\u001b[0m\u001b[37m\u001b[0m \u001b[1m13s\u001b[0m 29ms/step - loss: 0.6274 - mae: 0.5140 - val_loss: 0.0038 - val_mae: 0.0539 - learning_rate: 5.6500e-04\n",
            "Epoch 2/100\n",
            "\u001b[1m61/61\u001b[0m \u001b[32m━━━━━━━━━━━━━━━━━━━━\u001b[0m\u001b[37m\u001b[0m \u001b[1m5s\u001b[0m 16ms/step - loss: 0.0215 - mae: 0.1156 - val_loss: 9.3667e-04 - val_mae: 0.0250 - learning_rate: 5.6500e-04\n",
            "Epoch 3/100\n",
            "\u001b[1m61/61\u001b[0m \u001b[32m━━━━━━━━━━━━━━━━━━━━\u001b[0m\u001b[37m\u001b[0m \u001b[1m1s\u001b[0m 16ms/step - loss: 0.0114 - mae: 0.0832 - val_loss: 7.3228e-04 - val_mae: 0.0226 - learning_rate: 5.6500e-04\n",
            "Epoch 4/100\n",
            "\u001b[1m61/61\u001b[0m \u001b[32m━━━━━━━━━━━━━━━━━━━━\u001b[0m\u001b[37m\u001b[0m \u001b[1m1s\u001b[0m 18ms/step - loss: 0.0100 - mae: 0.0775 - val_loss: 6.5128e-04 - val_mae: 0.0203 - learning_rate: 5.6500e-04\n",
            "Epoch 5/100\n",
            "\u001b[1m61/61\u001b[0m \u001b[32m━━━━━━━━━━━━━━━━━━━━\u001b[0m\u001b[37m\u001b[0m \u001b[1m2s\u001b[0m 24ms/step - loss: 0.0077 - mae: 0.0688 - val_loss: 0.0056 - val_mae: 0.0724 - learning_rate: 5.6500e-04\n",
            "Epoch 6/100\n",
            "\u001b[1m61/61\u001b[0m \u001b[32m━━━━━━━━━━━━━━━━━━━━\u001b[0m\u001b[37m\u001b[0m \u001b[1m1s\u001b[0m 24ms/step - loss: 0.0070 - mae: 0.0652 - val_loss: 3.4804e-04 - val_mae: 0.0149 - learning_rate: 5.6500e-04\n",
            "Epoch 7/100\n",
            "\u001b[1m61/61\u001b[0m \u001b[32m━━━━━━━━━━━━━━━━━━━━\u001b[0m\u001b[37m\u001b[0m \u001b[1m2s\u001b[0m 16ms/step - loss: 0.0062 - mae: 0.0630 - val_loss: 3.6813e-04 - val_mae: 0.0151 - learning_rate: 5.6500e-04\n",
            "Epoch 8/100\n",
            "\u001b[1m61/61\u001b[0m \u001b[32m━━━━━━━━━━━━━━━━━━━━\u001b[0m\u001b[37m\u001b[0m \u001b[1m1s\u001b[0m 17ms/step - loss: 0.0061 - mae: 0.0611 - val_loss: 0.0053 - val_mae: 0.0706 - learning_rate: 5.6500e-04\n",
            "Epoch 9/100\n",
            "\u001b[1m59/61\u001b[0m \u001b[32m━━━━━━━━━━━━━━━━━━━\u001b[0m\u001b[37m━\u001b[0m \u001b[1m0s\u001b[0m 14ms/step - loss: 0.0067 - mae: 0.0650\n",
            "Epoch 9: ReduceLROnPlateau reducing learning rate to 0.00028249999741092324.\n",
            "\u001b[1m61/61\u001b[0m \u001b[32m━━━━━━━━━━━━━━━━━━━━\u001b[0m\u001b[37m\u001b[0m \u001b[1m1s\u001b[0m 16ms/step - loss: 0.0067 - mae: 0.0649 - val_loss: 2.5737e-04 - val_mae: 0.0125 - learning_rate: 5.6500e-04\n",
            "Epoch 10/100\n",
            "\u001b[1m61/61\u001b[0m \u001b[32m━━━━━━━━━━━━━━━━━━━━\u001b[0m\u001b[37m\u001b[0m \u001b[1m1s\u001b[0m 18ms/step - loss: 0.0053 - mae: 0.0576 - val_loss: 3.5241e-04 - val_mae: 0.0149 - learning_rate: 2.8250e-04\n",
            "Epoch 11/100\n",
            "\u001b[1m61/61\u001b[0m \u001b[32m━━━━━━━━━━━━━━━━━━━━\u001b[0m\u001b[37m\u001b[0m \u001b[1m1s\u001b[0m 16ms/step - loss: 0.0052 - mae: 0.0562 - val_loss: 5.7436e-04 - val_mae: 0.0198 - learning_rate: 2.8250e-04\n",
            "Epoch 12/100\n",
            "\u001b[1m61/61\u001b[0m \u001b[32m━━━━━━━━━━━━━━━━━━━━\u001b[0m\u001b[37m\u001b[0m \u001b[1m0s\u001b[0m 14ms/step - loss: 0.0052 - mae: 0.0566\n",
            "Epoch 12: ReduceLROnPlateau reducing learning rate to 0.00014124999870546162.\n",
            "\u001b[1m61/61\u001b[0m \u001b[32m━━━━━━━━━━━━━━━━━━━━\u001b[0m\u001b[37m\u001b[0m \u001b[1m1s\u001b[0m 17ms/step - loss: 0.0052 - mae: 0.0566 - val_loss: 0.0010 - val_mae: 0.0282 - learning_rate: 2.8250e-04\n",
            "Epoch 13/100\n",
            "\u001b[1m61/61\u001b[0m \u001b[32m━━━━━━━━━━━━━━━━━━━━\u001b[0m\u001b[37m\u001b[0m \u001b[1m1s\u001b[0m 16ms/step - loss: 0.0048 - mae: 0.0538 - val_loss: 2.5462e-04 - val_mae: 0.0124 - learning_rate: 1.4125e-04\n",
            "Epoch 14/100\n",
            "\u001b[1m61/61\u001b[0m \u001b[32m━━━━━━━━━━━━━━━━━━━━\u001b[0m\u001b[37m\u001b[0m \u001b[1m2s\u001b[0m 20ms/step - loss: 0.0050 - mae: 0.0552 - val_loss: 0.0011 - val_mae: 0.0307 - learning_rate: 1.4125e-04\n",
            "Epoch 15/100\n",
            "\u001b[1m61/61\u001b[0m \u001b[32m━━━━━━━━━━━━━━━━━━━━\u001b[0m\u001b[37m\u001b[0m \u001b[1m3s\u001b[0m 21ms/step - loss: 0.0050 - mae: 0.0554 - val_loss: 2.1048e-04 - val_mae: 0.0113 - learning_rate: 1.4125e-04\n",
            "Epoch 16/100\n",
            "\u001b[1m61/61\u001b[0m \u001b[32m━━━━━━━━━━━━━━━━━━━━\u001b[0m\u001b[37m\u001b[0m \u001b[1m2s\u001b[0m 16ms/step - loss: 0.0048 - mae: 0.0537 - val_loss: 3.0007e-04 - val_mae: 0.0136 - learning_rate: 1.4125e-04\n",
            "Epoch 17/100\n",
            "\u001b[1m61/61\u001b[0m \u001b[32m━━━━━━━━━━━━━━━━━━━━\u001b[0m\u001b[37m\u001b[0m \u001b[1m1s\u001b[0m 17ms/step - loss: 0.0050 - mae: 0.0546 - val_loss: 7.8928e-04 - val_mae: 0.0245 - learning_rate: 1.4125e-04\n",
            "Epoch 18/100\n",
            "\u001b[1m60/61\u001b[0m \u001b[32m━━━━━━━━━━━━━━━━━━━\u001b[0m\u001b[37m━\u001b[0m \u001b[1m0s\u001b[0m 14ms/step - loss: 0.0051 - mae: 0.0559\n",
            "Epoch 18: ReduceLROnPlateau reducing learning rate to 7.062499935273081e-05.\n",
            "\u001b[1m61/61\u001b[0m \u001b[32m━━━━━━━━━━━━━━━━━━━━\u001b[0m\u001b[37m\u001b[0m \u001b[1m1s\u001b[0m 16ms/step - loss: 0.0051 - mae: 0.0559 - val_loss: 2.0327e-04 - val_mae: 0.0110 - learning_rate: 1.4125e-04\n",
            "Epoch 19/100\n",
            "\u001b[1m61/61\u001b[0m \u001b[32m━━━━━━━━━━━━━━━━━━━━\u001b[0m\u001b[37m\u001b[0m \u001b[1m1s\u001b[0m 16ms/step - loss: 0.0047 - mae: 0.0538 - val_loss: 0.0012 - val_mae: 0.0311 - learning_rate: 7.0625e-05\n",
            "Epoch 20/100\n",
            "\u001b[1m61/61\u001b[0m \u001b[32m━━━━━━━━━━━━━━━━━━━━\u001b[0m\u001b[37m\u001b[0m \u001b[1m1s\u001b[0m 16ms/step - loss: 0.0050 - mae: 0.0551 - val_loss: 4.7750e-04 - val_mae: 0.0175 - learning_rate: 7.0625e-05\n",
            "Epoch 21/100\n",
            "\u001b[1m60/61\u001b[0m \u001b[32m━━━━━━━━━━━━━━━━━━━\u001b[0m\u001b[37m━\u001b[0m \u001b[1m0s\u001b[0m 15ms/step - loss: 0.0046 - mae: 0.0531\n",
            "Epoch 21: ReduceLROnPlateau reducing learning rate to 3.5312499676365405e-05.\n",
            "\u001b[1m61/61\u001b[0m \u001b[32m━━━━━━━━━━━━━━━━━━━━\u001b[0m\u001b[37m\u001b[0m \u001b[1m1s\u001b[0m 16ms/step - loss: 0.0046 - mae: 0.0532 - val_loss: 4.3584e-04 - val_mae: 0.0168 - learning_rate: 7.0625e-05\n",
            "Epoch 22/100\n",
            "\u001b[1m61/61\u001b[0m \u001b[32m━━━━━━━━━━━━━━━━━━━━\u001b[0m\u001b[37m\u001b[0m \u001b[1m1s\u001b[0m 17ms/step - loss: 0.0048 - mae: 0.0540 - val_loss: 6.1299e-04 - val_mae: 0.0209 - learning_rate: 3.5312e-05\n",
            "Epoch 23/100\n",
            "\u001b[1m61/61\u001b[0m \u001b[32m━━━━━━━━━━━━━━━━━━━━\u001b[0m\u001b[37m\u001b[0m \u001b[1m1s\u001b[0m 24ms/step - loss: 0.0046 - mae: 0.0541 - val_loss: 3.4408e-04 - val_mae: 0.0145 - learning_rate: 3.5312e-05\n",
            "Epoch 24/100\n",
            "\u001b[1m59/61\u001b[0m \u001b[32m━━━━━━━━━━━━━━━━━━━\u001b[0m\u001b[37m━\u001b[0m \u001b[1m0s\u001b[0m 21ms/step - loss: 0.0049 - mae: 0.0546\n",
            "Epoch 24: ReduceLROnPlateau reducing learning rate to 1.7656249838182703e-05.\n",
            "\u001b[1m61/61\u001b[0m \u001b[32m━━━━━━━━━━━━━━━━━━━━\u001b[0m\u001b[37m\u001b[0m \u001b[1m2s\u001b[0m 25ms/step - loss: 0.0049 - mae: 0.0546 - val_loss: 6.4787e-04 - val_mae: 0.0215 - learning_rate: 3.5312e-05\n",
            "Epoch 25/100\n",
            "\u001b[1m61/61\u001b[0m \u001b[32m━━━━━━━━━━━━━━━━━━━━\u001b[0m\u001b[37m\u001b[0m \u001b[1m2s\u001b[0m 16ms/step - loss: 0.0049 - mae: 0.0540 - val_loss: 2.0404e-04 - val_mae: 0.0112 - learning_rate: 1.7656e-05\n",
            "Epoch 26/100\n",
            "\u001b[1m61/61\u001b[0m \u001b[32m━━━━━━━━━━━━━━━━━━━━\u001b[0m\u001b[37m\u001b[0m \u001b[1m1s\u001b[0m 16ms/step - loss: 0.0047 - mae: 0.0536 - val_loss: 2.5028e-04 - val_mae: 0.0123 - learning_rate: 1.7656e-05\n",
            "Epoch 27/100\n",
            "\u001b[1m61/61\u001b[0m \u001b[32m━━━━━━━━━━━━━━━━━━━━\u001b[0m\u001b[37m\u001b[0m \u001b[1m0s\u001b[0m 14ms/step - loss: 0.0042 - mae: 0.0522\n",
            "Epoch 27: ReduceLROnPlateau reducing learning rate to 8.828124919091351e-06.\n",
            "\u001b[1m61/61\u001b[0m \u001b[32m━━━━━━━━━━━━━━━━━━━━\u001b[0m\u001b[37m\u001b[0m \u001b[1m1s\u001b[0m 17ms/step - loss: 0.0043 - mae: 0.0522 - val_loss: 2.6580e-04 - val_mae: 0.0126 - learning_rate: 1.7656e-05\n",
            "Epoch 28/100\n",
            "\u001b[1m61/61\u001b[0m \u001b[32m━━━━━━━━━━━━━━━━━━━━\u001b[0m\u001b[37m\u001b[0m \u001b[1m1s\u001b[0m 16ms/step - loss: 0.0047 - mae: 0.0533 - val_loss: 3.0827e-04 - val_mae: 0.0137 - learning_rate: 8.8281e-06\n",
            "Epoch 29/100\n",
            "\u001b[1m61/61\u001b[0m \u001b[32m━━━━━━━━━━━━━━━━━━━━\u001b[0m\u001b[37m\u001b[0m \u001b[1m1s\u001b[0m 17ms/step - loss: 0.0050 - mae: 0.0547 - val_loss: 3.2520e-04 - val_mae: 0.0142 - learning_rate: 8.8281e-06\n",
            "Epoch 30/100\n",
            "\u001b[1m61/61\u001b[0m \u001b[32m━━━━━━━━━━━━━━━━━━━━\u001b[0m\u001b[37m\u001b[0m \u001b[1m0s\u001b[0m 14ms/step - loss: 0.0050 - mae: 0.0550\n",
            "Epoch 30: ReduceLROnPlateau reducing learning rate to 4.414062459545676e-06.\n",
            "\u001b[1m61/61\u001b[0m \u001b[32m━━━━━━━━━━━━━━━━━━━━\u001b[0m\u001b[37m\u001b[0m \u001b[1m1s\u001b[0m 17ms/step - loss: 0.0050 - mae: 0.0549 - val_loss: 3.2785e-04 - val_mae: 0.0143 - learning_rate: 8.8281e-06\n",
            "Epoch 31/100\n",
            "\u001b[1m61/61\u001b[0m \u001b[32m━━━━━━━━━━━━━━━━━━━━\u001b[0m\u001b[37m\u001b[0m \u001b[1m1s\u001b[0m 16ms/step - loss: 0.0045 - mae: 0.0526 - val_loss: 2.9479e-04 - val_mae: 0.0134 - learning_rate: 4.4141e-06\n",
            "Epoch 32/100\n",
            "\u001b[1m61/61\u001b[0m \u001b[32m━━━━━━━━━━━━━━━━━━━━\u001b[0m\u001b[37m\u001b[0m \u001b[1m1s\u001b[0m 16ms/step - loss: 0.0045 - mae: 0.0519 - val_loss: 3.4198e-04 - val_mae: 0.0146 - learning_rate: 4.4141e-06\n",
            "Epoch 33/100\n",
            "\u001b[1m59/61\u001b[0m \u001b[32m━━━━━━━━━━━━━━━━━━━\u001b[0m\u001b[37m━\u001b[0m \u001b[1m0s\u001b[0m 22ms/step - loss: 0.0050 - mae: 0.0535\n",
            "Epoch 33: ReduceLROnPlateau reducing learning rate to 2.207031229772838e-06.\n",
            "\u001b[1m61/61\u001b[0m \u001b[32m━━━━━━━━━━━━━━━━━━━━\u001b[0m\u001b[37m\u001b[0m \u001b[1m2s\u001b[0m 25ms/step - loss: 0.0050 - mae: 0.0535 - val_loss: 5.4452e-04 - val_mae: 0.0192 - learning_rate: 4.4141e-06\n",
            "Epoch 34/100\n",
            "\u001b[1m61/61\u001b[0m \u001b[32m━━━━━━━━━━━━━━━━━━━━\u001b[0m\u001b[37m\u001b[0m \u001b[1m1s\u001b[0m 24ms/step - loss: 0.0047 - mae: 0.0546 - val_loss: 3.9583e-04 - val_mae: 0.0158 - learning_rate: 2.2070e-06\n",
            "Epoch 35/100\n",
            "\u001b[1m61/61\u001b[0m \u001b[32m━━━━━━━━━━━━━━━━━━━━\u001b[0m\u001b[37m\u001b[0m \u001b[1m2s\u001b[0m 16ms/step - loss: 0.0051 - mae: 0.0562 - val_loss: 3.6820e-04 - val_mae: 0.0152 - learning_rate: 2.2070e-06\n",
            "Epoch 36/100\n",
            "\u001b[1m60/61\u001b[0m \u001b[32m━━━━━━━━━━━━━━━━━━━\u001b[0m\u001b[37m━\u001b[0m \u001b[1m0s\u001b[0m 14ms/step - loss: 0.0044 - mae: 0.0513\n",
            "Epoch 36: ReduceLROnPlateau reducing learning rate to 1.103515614886419e-06.\n",
            "\u001b[1m61/61\u001b[0m \u001b[32m━━━━━━━━━━━━━━━━━━━━\u001b[0m\u001b[37m\u001b[0m \u001b[1m1s\u001b[0m 16ms/step - loss: 0.0044 - mae: 0.0513 - val_loss: 3.8143e-04 - val_mae: 0.0155 - learning_rate: 2.2070e-06\n",
            "Epoch 37/100\n",
            "\u001b[1m61/61\u001b[0m \u001b[32m━━━━━━━━━━━━━━━━━━━━\u001b[0m\u001b[37m\u001b[0m \u001b[1m1s\u001b[0m 16ms/step - loss: 0.0046 - mae: 0.0522 - val_loss: 3.3270e-04 - val_mae: 0.0143 - learning_rate: 1.1035e-06\n",
            "Epoch 38/100\n",
            "\u001b[1m61/61\u001b[0m \u001b[32m━━━━━━━━━━━━━━━━━━━━\u001b[0m\u001b[37m\u001b[0m \u001b[1m1s\u001b[0m 16ms/step - loss: 0.0049 - mae: 0.0549 - val_loss: 3.6515e-04 - val_mae: 0.0151 - learning_rate: 1.1035e-06\n",
            "Epoch 39/100\n",
            "\u001b[1m61/61\u001b[0m \u001b[32m━━━━━━━━━━━━━━━━━━━━\u001b[0m\u001b[37m\u001b[0m \u001b[1m0s\u001b[0m 15ms/step - loss: 0.0042 - mae: 0.0499\n",
            "Epoch 39: ReduceLROnPlateau reducing learning rate to 1e-06.\n",
            "\u001b[1m61/61\u001b[0m \u001b[32m━━━━━━━━━━━━━━━━━━━━\u001b[0m\u001b[37m\u001b[0m \u001b[1m1s\u001b[0m 17ms/step - loss: 0.0042 - mae: 0.0500 - val_loss: 2.8553e-04 - val_mae: 0.0131 - learning_rate: 1.1035e-06\n",
            "Epoch 40/100\n",
            "\u001b[1m61/61\u001b[0m \u001b[32m━━━━━━━━━━━━━━━━━━━━\u001b[0m\u001b[37m\u001b[0m \u001b[1m1s\u001b[0m 16ms/step - loss: 0.0041 - mae: 0.0510 - val_loss: 3.0894e-04 - val_mae: 0.0137 - learning_rate: 1.0000e-06\n",
            "Epoch 41/100\n",
            "\u001b[1m61/61\u001b[0m \u001b[32m━━━━━━━━━━━━━━━━━━━━\u001b[0m\u001b[37m\u001b[0m \u001b[1m1s\u001b[0m 16ms/step - loss: 0.0048 - mae: 0.0549 - val_loss: 2.5036e-04 - val_mae: 0.0123 - learning_rate: 1.0000e-06\n",
            "Epoch 42/100\n",
            "\u001b[1m61/61\u001b[0m \u001b[32m━━━━━━━━━━━━━━━━━━━━\u001b[0m\u001b[37m\u001b[0m \u001b[1m1s\u001b[0m 17ms/step - loss: 0.0044 - mae: 0.0518 - val_loss: 2.9968e-04 - val_mae: 0.0135 - learning_rate: 1.0000e-06\n",
            "Epoch 43/100\n",
            "\u001b[1m61/61\u001b[0m \u001b[32m━━━━━━━━━━━━━━━━━━━━\u001b[0m\u001b[37m\u001b[0m \u001b[1m2s\u001b[0m 23ms/step - loss: 0.0048 - mae: 0.0537 - val_loss: 3.0925e-04 - val_mae: 0.0138 - learning_rate: 1.0000e-06\n",
            "Epoch 44/100\n",
            "\u001b[1m61/61\u001b[0m \u001b[32m━━━━━━━━━━━━━━━━━━━━\u001b[0m\u001b[37m\u001b[0m \u001b[1m2s\u001b[0m 16ms/step - loss: 0.0043 - mae: 0.0508 - val_loss: 3.1610e-04 - val_mae: 0.0139 - learning_rate: 1.0000e-06\n",
            "Epoch 45/100\n",
            "\u001b[1m61/61\u001b[0m \u001b[32m━━━━━━━━━━━━━━━━━━━━\u001b[0m\u001b[37m\u001b[0m \u001b[1m1s\u001b[0m 17ms/step - loss: 0.0041 - mae: 0.0499 - val_loss: 2.6188e-04 - val_mae: 0.0126 - learning_rate: 1.0000e-06\n",
            "Epoch 46/100\n",
            "\u001b[1m61/61\u001b[0m \u001b[32m━━━━━━━━━━━━━━━━━━━━\u001b[0m\u001b[37m\u001b[0m \u001b[1m1s\u001b[0m 17ms/step - loss: 0.0048 - mae: 0.0541 - val_loss: 3.1951e-04 - val_mae: 0.0140 - learning_rate: 1.0000e-06\n",
            "Epoch 47/100\n",
            "\u001b[1m61/61\u001b[0m \u001b[32m━━━━━━━━━━━━━━━━━━━━\u001b[0m\u001b[37m\u001b[0m \u001b[1m1s\u001b[0m 17ms/step - loss: 0.0043 - mae: 0.0520 - val_loss: 3.1701e-04 - val_mae: 0.0140 - learning_rate: 1.0000e-06\n",
            "Epoch 48/100\n",
            "\u001b[1m61/61\u001b[0m \u001b[32m━━━━━━━━━━━━━━━━━━━━\u001b[0m\u001b[37m\u001b[0m \u001b[1m1s\u001b[0m 16ms/step - loss: 0.0048 - mae: 0.0538 - val_loss: 3.1205e-04 - val_mae: 0.0139 - learning_rate: 1.0000e-06\n",
            "Epoch 49/100\n",
            "\u001b[1m61/61\u001b[0m \u001b[32m━━━━━━━━━━━━━━━━━━━━\u001b[0m\u001b[37m\u001b[0m \u001b[1m1s\u001b[0m 16ms/step - loss: 0.0045 - mae: 0.0520 - val_loss: 3.4314e-04 - val_mae: 0.0146 - learning_rate: 1.0000e-06\n",
            "Epoch 50/100\n",
            "\u001b[1m61/61\u001b[0m \u001b[32m━━━━━━━━━━━━━━━━━━━━\u001b[0m\u001b[37m\u001b[0m \u001b[1m1s\u001b[0m 16ms/step - loss: 0.0045 - mae: 0.0534 - val_loss: 3.7776e-04 - val_mae: 0.0154 - learning_rate: 1.0000e-06\n",
            "Epoch 51/100\n",
            "\u001b[1m61/61\u001b[0m \u001b[32m━━━━━━━━━━━━━━━━━━━━\u001b[0m\u001b[37m\u001b[0m \u001b[1m1s\u001b[0m 16ms/step - loss: 0.0047 - mae: 0.0531 - val_loss: 3.9610e-04 - val_mae: 0.0159 - learning_rate: 1.0000e-06\n",
            "Epoch 52/100\n",
            "\u001b[1m61/61\u001b[0m \u001b[32m━━━━━━━━━━━━━━━━━━━━\u001b[0m\u001b[37m\u001b[0m \u001b[1m2s\u001b[0m 21ms/step - loss: 0.0048 - mae: 0.0534 - val_loss: 3.6576e-04 - val_mae: 0.0151 - learning_rate: 1.0000e-06\n",
            "Epoch 53/100\n",
            "\u001b[1m61/61\u001b[0m \u001b[32m━━━━━━━━━━━━━━━━━━━━\u001b[0m\u001b[37m\u001b[0m \u001b[1m2s\u001b[0m 25ms/step - loss: 0.0043 - mae: 0.0506 - val_loss: 3.8959e-04 - val_mae: 0.0157 - learning_rate: 1.0000e-06\n",
            "Epoch 54/100\n",
            "\u001b[1m61/61\u001b[0m \u001b[32m━━━━━━━━━━━━━━━━━━━━\u001b[0m\u001b[37m\u001b[0m \u001b[1m1s\u001b[0m 22ms/step - loss: 0.0043 - mae: 0.0521 - val_loss: 3.0384e-04 - val_mae: 0.0136 - learning_rate: 1.0000e-06\n",
            "Epoch 55/100\n",
            "\u001b[1m61/61\u001b[0m \u001b[32m━━━━━━━━━━━━━━━━━━━━\u001b[0m\u001b[37m\u001b[0m \u001b[1m2s\u001b[0m 16ms/step - loss: 0.0050 - mae: 0.0541 - val_loss: 3.8713e-04 - val_mae: 0.0156 - learning_rate: 1.0000e-06\n",
            "Epoch 56/100\n",
            "\u001b[1m61/61\u001b[0m \u001b[32m━━━━━━━━━━━━━━━━━━━━\u001b[0m\u001b[37m\u001b[0m \u001b[1m1s\u001b[0m 16ms/step - loss: 0.0046 - mae: 0.0531 - val_loss: 3.8356e-04 - val_mae: 0.0156 - learning_rate: 1.0000e-06\n",
            "Epoch 57/100\n",
            "\u001b[1m61/61\u001b[0m \u001b[32m━━━━━━━━━━━━━━━━━━━━\u001b[0m\u001b[37m\u001b[0m \u001b[1m1s\u001b[0m 16ms/step - loss: 0.0050 - mae: 0.0537 - val_loss: 3.3897e-04 - val_mae: 0.0145 - learning_rate: 1.0000e-06\n",
            "Epoch 58/100\n",
            "\u001b[1m61/61\u001b[0m \u001b[32m━━━━━━━━━━━━━━━━━━━━\u001b[0m\u001b[37m\u001b[0m \u001b[1m1s\u001b[0m 17ms/step - loss: 0.0045 - mae: 0.0528 - val_loss: 3.2338e-04 - val_mae: 0.0141 - learning_rate: 1.0000e-06\n",
            "Epoch 59/100\n",
            "\u001b[1m61/61\u001b[0m \u001b[32m━━━━━━━━━━━━━━━━━━━━\u001b[0m\u001b[37m\u001b[0m \u001b[1m1s\u001b[0m 16ms/step - loss: 0.0044 - mae: 0.0520 - val_loss: 3.1095e-04 - val_mae: 0.0138 - learning_rate: 1.0000e-06\n",
            "Epoch 60/100\n",
            "\u001b[1m61/61\u001b[0m \u001b[32m━━━━━━━━━━━━━━━━━━━━\u001b[0m\u001b[37m\u001b[0m \u001b[1m1s\u001b[0m 16ms/step - loss: 0.0048 - mae: 0.0535 - val_loss: 3.3461e-04 - val_mae: 0.0144 - learning_rate: 1.0000e-06\n",
            "Epoch 61/100\n",
            "\u001b[1m61/61\u001b[0m \u001b[32m━━━━━━━━━━━━━━━━━━━━\u001b[0m\u001b[37m\u001b[0m \u001b[1m1s\u001b[0m 16ms/step - loss: 0.0047 - mae: 0.0529 - val_loss: 3.4505e-04 - val_mae: 0.0147 - learning_rate: 1.0000e-06\n",
            "Epoch 62/100\n",
            "\u001b[1m61/61\u001b[0m \u001b[32m━━━━━━━━━━━━━━━━━━━━\u001b[0m\u001b[37m\u001b[0m \u001b[1m2s\u001b[0m 25ms/step - loss: 0.0047 - mae: 0.0529 - val_loss: 2.9705e-04 - val_mae: 0.0135 - learning_rate: 1.0000e-06\n",
            "Epoch 63/100\n",
            "\u001b[1m61/61\u001b[0m \u001b[32m━━━━━━━━━━━━━━━━━━━━\u001b[0m\u001b[37m\u001b[0m \u001b[1m2s\u001b[0m 16ms/step - loss: 0.0047 - mae: 0.0525 - val_loss: 3.4805e-04 - val_mae: 0.0148 - learning_rate: 1.0000e-06\n",
            "Epoch 64/100\n",
            "\u001b[1m61/61\u001b[0m \u001b[32m━━━━━━━━━━━━━━━━━━━━\u001b[0m\u001b[37m\u001b[0m \u001b[1m1s\u001b[0m 18ms/step - loss: 0.0046 - mae: 0.0524 - val_loss: 3.5683e-04 - val_mae: 0.0150 - learning_rate: 1.0000e-06\n",
            "Epoch 65/100\n",
            "\u001b[1m61/61\u001b[0m \u001b[32m━━━━━━━━━━━━━━━━━━━━\u001b[0m\u001b[37m\u001b[0m \u001b[1m1s\u001b[0m 16ms/step - loss: 0.0044 - mae: 0.0513 - val_loss: 3.1054e-04 - val_mae: 0.0138 - learning_rate: 1.0000e-06\n",
            "Epoch 66/100\n",
            "\u001b[1m61/61\u001b[0m \u001b[32m━━━━━━━━━━━━━━━━━━━━\u001b[0m\u001b[37m\u001b[0m \u001b[1m1s\u001b[0m 16ms/step - loss: 0.0044 - mae: 0.0520 - val_loss: 3.3236e-04 - val_mae: 0.0143 - learning_rate: 1.0000e-06\n",
            "Epoch 67/100\n",
            "\u001b[1m61/61\u001b[0m \u001b[32m━━━━━━━━━━━━━━━━━━━━\u001b[0m\u001b[37m\u001b[0m \u001b[1m1s\u001b[0m 17ms/step - loss: 0.0043 - mae: 0.0514 - val_loss: 2.9936e-04 - val_mae: 0.0135 - learning_rate: 1.0000e-06\n",
            "Epoch 68/100\n",
            "\u001b[1m61/61\u001b[0m \u001b[32m━━━━━━━━━━━━━━━━━━━━\u001b[0m\u001b[37m\u001b[0m \u001b[1m1s\u001b[0m 17ms/step - loss: 0.0045 - mae: 0.0528 - val_loss: 2.8853e-04 - val_mae: 0.0132 - learning_rate: 1.0000e-06\n"
          ]
        }
      ]
    },
    {
      "cell_type": "code",
      "source": [
        "model.save(\"hybrid_model.h5\")\n"
      ],
      "metadata": {
        "colab": {
          "base_uri": "https://localhost:8080/"
        },
        "id": "iRIQ_7ZUy9A3",
        "outputId": "731a1481-b9f4-4237-c527-de35c308a936"
      },
      "execution_count": null,
      "outputs": [
        {
          "output_type": "stream",
          "name": "stderr",
          "text": [
            "WARNING:absl:You are saving your model as an HDF5 file via `model.save()` or `keras.saving.save_model(model)`. This file format is considered legacy. We recommend using instead the native Keras format, e.g. `model.save('my_model.keras')` or `keras.saving.save_model(model, 'my_model.keras')`. \n"
          ]
        }
      ]
    },
    {
      "cell_type": "code",
      "source": [
        "train_predict = model.predict(X_train)\n",
        "Val_predict = model.predict(X_val)\n",
        "test_predict=model.predict(X_test)"
      ],
      "metadata": {
        "colab": {
          "base_uri": "https://localhost:8080/"
        },
        "id": "GHNp7-MfukZb",
        "outputId": "01f87712-32a4-4266-c36f-7604197d860b"
      },
      "execution_count": 14,
      "outputs": [
        {
          "output_type": "stream",
          "name": "stdout",
          "text": [
            "\u001b[1m61/61\u001b[0m \u001b[32m━━━━━━━━━━━━━━━━━━━━\u001b[0m\u001b[37m\u001b[0m \u001b[1m1s\u001b[0m 10ms/step\n",
            "\u001b[1m11/11\u001b[0m \u001b[32m━━━━━━━━━━━━━━━━━━━━\u001b[0m\u001b[37m\u001b[0m \u001b[1m0s\u001b[0m 5ms/step \n",
            "\u001b[1m9/9\u001b[0m \u001b[32m━━━━━━━━━━━━━━━━━━━━\u001b[0m\u001b[37m\u001b[0m \u001b[1m0s\u001b[0m 9ms/step\n"
          ]
        }
      ]
    },
    {
      "cell_type": "code",
      "source": [
        "from sklearn.metrics import mean_squared_error, mean_absolute_error, r2_score\n",
        "import numpy as np\n",
        "from math import sqrt\n",
        "\n",
        "# -------- sMAPE Function --------\n",
        "def smape(y_true, y_pred):\n",
        "    return 100 * np.mean(2 * np.abs(y_pred - y_true) / (np.abs(y_true) + np.abs(y_pred)))\n",
        "\n",
        "# -------- MASE Function --------\n",
        "def mase(y_true, y_pred):\n",
        "    mae_model = np.mean(np.abs(y_true - y_pred))\n",
        "    mae_naive = np.mean(np.abs(y_true[1:] - y_true[:-1]))  # naive lag-1 forecast\n",
        "    return mae_model / mae_naive\n",
        "\n",
        "# ----------- Train Metrics -----------\n",
        "train_rmse = sqrt(mean_squared_error(y_train, train_predict))\n",
        "train_mse = mean_squared_error(y_train, train_predict)\n",
        "train_mae = mean_absolute_error(y_train, train_predict)\n",
        "train_smape = smape(y_train, train_predict)\n",
        "train_mase = mase(y_train, train_predict)\n",
        "train_r2 = r2_score(y_train, train_predict)\n",
        "\n",
        "# ----------- Validation Metrics -----------\n",
        "val_rmse = sqrt(mean_squared_error(y_val, Val_predict))\n",
        "val_mse = mean_squared_error(y_val, Val_predict)\n",
        "val_mae = mean_absolute_error(y_val, Val_predict)\n",
        "val_smape = smape(y_val, Val_predict)\n",
        "val_mase = mase(y_val, Val_predict)\n",
        "val_r2 = r2_score(y_val, Val_predict)\n",
        "\n",
        "# ----------- Test Metrics -----------\n",
        "test_rmse = sqrt(mean_squared_error(y_test, test_predict))\n",
        "test_mse = mean_squared_error(y_test, test_predict)\n",
        "test_mae = mean_absolute_error(y_test, test_predict)\n",
        "test_smape = smape(y_test, test_predict)\n",
        "test_mase = mase(y_test, test_predict)\n",
        "test_r2 = r2_score(y_test, test_predict)\n",
        "\n",
        "# ---------- Print All ----------\n",
        "print(\"======== Train Metrics ========\")\n",
        "print(f\"Train RMSE: {train_rmse}\")\n",
        "print(f\"Train MSE: {train_mse}\")\n",
        "print(f\"Train MAE: {train_mae}\")\n",
        "print(f\"Train sMAPE: {train_smape:.2f}%\")\n",
        "print(f\"Train MASE: {train_mase:.3f}\")\n",
        "print(f\"Train R² Score: {train_r2:.4f}\")\n",
        "\n",
        "print(\"\\n======== Validation Metrics ========\")\n",
        "print(f\"Validation RMSE: {val_rmse}\")\n",
        "print(f\"Validation MSE: {val_mse}\")\n",
        "print(f\"Validation MAE: {val_mae}\")\n",
        "print(f\"Validation sMAPE: {val_smape:.2f}%\")\n",
        "print(f\"Validation MASE: {val_mase:.3f}\")\n",
        "print(f\"Validation R² Score: {val_r2:.4f}\")\n",
        "\n",
        "print(\"\\n======== Test Metrics ========\")\n",
        "print(f\"Test RMSE: {test_rmse}\")\n",
        "print(f\"Test MSE: {test_mse}\")\n",
        "print(f\"Test MAE: {test_mae}\")\n",
        "print(f\"Test sMAPE: {test_smape:.2f}%\")\n",
        "print(f\"Test MASE: {test_mase:.3f}\")\n",
        "print(f\"Test R² Score: {test_r2:.4f}\")\n"
      ],
      "metadata": {
        "colab": {
          "base_uri": "https://localhost:8080/"
        },
        "id": "dqdrVinbupTg",
        "outputId": "da2fa4e3-7ecb-4fad-b97b-7f878c50f554"
      },
      "execution_count": 15,
      "outputs": [
        {
          "output_type": "stream",
          "name": "stdout",
          "text": [
            "======== Train Metrics ========\n",
            "Train RMSE: 0.01937607005244786\n",
            "Train MSE: 0.00037543209067736685\n",
            "Train MAE: 0.013042415603521032\n",
            "Train sMAPE: 21.50%\n",
            "Train MASE: 18.827\n",
            "Train R² Score: 0.9734\n",
            "\n",
            "======== Validation Metrics ========\n",
            "Validation RMSE: 0.014257117739742054\n",
            "Validation MSE: 0.00020326540624486758\n",
            "Validation MAE: 0.010995152517310166\n",
            "Validation sMAPE: 5.41%\n",
            "Validation MASE: 5.331\n",
            "Validation R² Score: 0.8439\n",
            "\n",
            "======== Test Metrics ========\n",
            "Test RMSE: 0.015098962647705905\n",
            "Test MSE: 0.00022797867303681814\n",
            "Test MAE: 0.01204068118171282\n",
            "Test sMAPE: 6.12%\n",
            "Test MASE: 6.278\n",
            "Test R² Score: 0.8483\n"
          ]
        }
      ]
    },
    {
      "cell_type": "code",
      "source": [
        "import matplotlib.pyplot as plt\n",
        "\n",
        "def visualize_loss(history, title):\n",
        "    loss = history.history[\"loss\"]\n",
        "    val_loss = history.history[\"val_loss\"]\n",
        "    epochs = range(len(loss))\n",
        "    plt.plot(epochs, loss, \"b\", label=\"Training loss\")\n",
        "    plt.plot(epochs, val_loss, \"r\", label=\"Validation loss\")\n",
        "\n",
        "    plt.title(title)\n",
        "    plt.xlabel(\"Epochs\")\n",
        "    plt.ylabel(\"Loss\")\n",
        "    plt.legend()\n",
        "    plt.show()\n",
        "\n",
        "\n",
        "visualize_loss(history, \"Training and Validation Loss\")\n",
        "\n"
      ],
      "metadata": {
        "colab": {
          "base_uri": "https://localhost:8080/",
          "height": 472
        },
        "id": "Acx_PRIjuzN6",
        "outputId": "ffae4edd-66ba-4dcf-b3fe-a58fe9423f71"
      },
      "execution_count": 16,
      "outputs": [
        {
          "output_type": "display_data",
          "data": {
            "text/plain": [
              "<Figure size 640x480 with 1 Axes>"
            ],
            "image/png": "[encoded data removed]"
          },
          "metadata": {}
        }
      ]
    },
    {
      "cell_type": "code",
      "source": [
        "from sklearn.preprocessing import MinMaxScaler\n",
        "import numpy as np\n",
        "\n",
        "\n",
        "target_col = 0\n",
        "\n",
        "scaler_y = MinMaxScaler()\n",
        "scaler_y.fit(train_data[:, target_col].reshape(-1, 1))\n",
        "\n",
        "y_train_scaled = scaler_y.transform(y_train.reshape(-1, 1))\n",
        "y_val_scaled = scaler_y.transform(y_val.reshape(-1, 1))\n",
        "\n",
        "train_predict_inv = scaler_y.inverse_transform(train_predict)\n",
        "y_train_inv = scaler_y.inverse_transform(y_train.reshape(-1, 1))\n",
        "\n",
        "val_predict_inv = scaler_y.inverse_transform(Val_predict)\n",
        "y_val_inv = scaler_y.inverse_transform(y_val.reshape(-1, 1))\n",
        "\n",
        "\n",
        "y_test_scaled = scaler_y.transform(y_test.reshape(-1, 1))\n",
        "\n",
        "\n",
        "\n",
        "test_predict_inv = scaler_y.inverse_transform(test_predict)\n",
        "y_test_inv = scaler_y.inverse_transform(y_test.reshape(-1, 1))\n"
      ],
      "metadata": {
        "id": "FeHDRe70j0pX"
      },
      "execution_count": 25,
      "outputs": []
    },
    {
      "cell_type": "code",
      "source": [
        "import numpy as np\n",
        "import pandas as pd\n",
        "import matplotlib.pyplot as plt\n",
        "\n",
        "df['observation_date'] = pd.to_datetime(df['observation_date'])\n",
        "\n",
        "seq_length = 8\n",
        "\n",
        "train_len = len(y_train_inv)\n",
        "val_len = len(y_val_inv)\n",
        "test_len = len(y_test_inv)\n",
        "\n",
        "total_y = train_len + val_len + test_len\n",
        "\n",
        "adjusted_dates = df['observation_date'].values[seq_length: seq_length + total_y]\n",
        "\n",
        "train_dates = adjusted_dates[:train_len]\n",
        "val_dates = adjusted_dates[train_len:train_len + val_len]\n",
        "test_dates = adjusted_dates[train_len + val_len:]\n",
        "\n",
        "print(\"Train dates vs y_train_inv:\", len(train_dates), len(y_train_inv))\n",
        "print(\"Val dates vs y_val_inv:\", len(val_dates), len(y_val_inv))\n",
        "print(\"Test dates vs y_test_inv:\", len(test_dates), len(y_test_inv))\n",
        "\n",
        "y_train_inv = y_train_inv.flatten()\n",
        "train_predict_inv = train_predict_inv.flatten()\n",
        "y_val_inv = y_val_inv.flatten()\n",
        "val_predict_inv = val_predict_inv.flatten()\n",
        "y_test_inv = y_test_inv.flatten()\n",
        "test_predict_inv = test_predict_inv.flatten()\n",
        "\n",
        "plt.figure(figsize=(15, 7), dpi=160)\n",
        "\n",
        "plt.plot(train_dates, y_train_inv, label='Train True', color='orange', linewidth=0.7)\n",
        "plt.plot(train_dates, train_predict_inv, label='Train Predicted', linestyle='--', color='red', linewidth=0.7)\n",
        "\n",
        "plt.plot(val_dates, y_val_inv, label='Validation True', color='blue', linewidth=0.9)\n",
        "plt.plot(val_dates, val_predict_inv, label='Validation Predicted', linestyle='--', color='red', linewidth=0.9)\n",
        "\n",
        "plt.plot(test_dates, y_test_inv, label='Test True', color='green', linewidth=0.7)\n",
        "plt.plot(test_dates, test_predict_inv, label='Test Predicted', linestyle='--', color='red', linewidth=0.9)\n",
        "\n",
        "plt.title('True vs Predicted Values CNN+BiLSTM+TransformerEncoder', fontsize=14)\n",
        "plt.xlabel('Date', fontsize=12)\n",
        "plt.ylabel('Target Value', fontsize=12)\n",
        "plt.legend(fontsize=10)\n",
        "plt.grid(True, linestyle='--', alpha=0.5)\n",
        "plt.xticks(rotation=45)\n",
        "plt.tight_layout()\n",
        "plt.show()\n"
      ],
      "metadata": {
        "colab": {
          "base_uri": "https://localhost:8080/",
          "height": 908
        },
        "id": "kYLJi1kIu1K4",
        "outputId": "9aa72931-dd33-4048-a57e-cbc6c2bc00cb"
      },
      "execution_count": 32,
      "outputs": [
        {
          "output_type": "stream",
          "name": "stdout",
          "text": [
            "Train dates vs y_train_inv: 1942 1942\n",
            "Val dates vs y_val_inv: 342 342\n",
            "Test dates vs y_test_inv: 275 275\n"
          ]
        },
        {
          "output_type": "display_data",
          "data": {
            "text/plain": [
              "<Figure size 2400x1120 with 1 Axes>"
            ],
            "image/png": "[encoded data removed]"
          },
          "metadata": {}
        }
      ]
    }
  ]
}